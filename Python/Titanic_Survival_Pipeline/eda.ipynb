{
 "cells": [
  {
   "cell_type": "markdown",
   "metadata": {},
   "source": [
    "# Introduction\n",
    "+ The below Analysis  is broken up into two broad categories\n",
    "    + EDA\n",
    "        + Dataset will be loaded in from pull_data.py file\n",
    "        + Numerical and visual observations are noted\n",
    "        + Recommendations for imputation and data transformation are noted\n",
    "        + Results and effect on proposed models is noted\n",
    "    + Modeling\n",
    "        + five models are ran in this section \n",
    "            + pipe_1 - single-run(no cross validation) with age imputation of -1\n",
    "            + pipe_2 - same as pipe_1, however, special imputation method discussed in section 2.2\n",
    "            + pipe_3 - cross validated version of pipe 1\n",
    "            + pipe_4 - cross validated version of pipe 2\n",
    "            + pipe_5 - cross validated logistic regression that uses special imputation \n",
    "        + All models are evaluated based on their auc score"
   ]
  },
  {
   "cell_type": "markdown",
   "metadata": {},
   "source": [
    "# EDA"
   ]
  },
  {
   "cell_type": "markdown",
   "metadata": {},
   "source": [
    "## Load libraries and functions and setup global variables"
   ]
  },
  {
   "cell_type": "markdown",
   "metadata": {},
   "source": [
    "### Packages"
   ]
  },
  {
   "cell_type": "code",
   "execution_count": 64,
   "metadata": {},
   "outputs": [],
   "source": [
    "# Modules for EDA\n",
    "import pandas as pd\n",
    "from pandas.plotting import scatter_matrix\n",
    "import numpy as np\n",
    "from pull_data import get_url_csv\n",
    "from pull_data import train\n",
    "from pull_data import test\n",
    "import seaborn as sns\n",
    "import matplotlib.pyplot as plt\n",
    "\n",
    "\n",
    "# Modules for modeling\n",
    "from pathlib import Path\n",
    "from sklearn.metrics import roc_curve, roc_auc_score\n",
    "from pull_data import get_url_csv\n",
    "from pull_data import train\n",
    "from pull_data import test\n",
    "import numpy as np\n",
    "from matplotlib import pyplot as plt\n",
    "from sklearn import metrics\n",
    "from sklearn.base import TransformerMixin, BaseEstimator\n",
    "from sklearn.cross_validation import train_test_split, cross_val_predict\n",
    "from sklearn.discriminant_analysis import LinearDiscriminantAnalysis\n",
    "from sklearn.dummy import DummyClassifier\n",
    "from sklearn.ensemble import RandomForestClassifier\n",
    "from sklearn.linear_model import LogisticRegression\n",
    "from sklearn.metrics import (precision_recall_fscore_support,\n",
    "                             confusion_matrix, accuracy_score,\n",
    "                             classification_report)\n",
    "from sklearn.model_selection import (cross_val_score, GridSearchCV,\n",
    "                                     KFold, cross_val_score)\n",
    "from sklearn.preprocessing import StandardScaler\n",
    "from sklearn.pipeline import Pipeline, make_pipeline, make_union\n",
    "import scikitplot as skplt\n",
    "import random\n",
    "pd.options.mode.chained_assignment = None"
   ]
  },
  {
   "cell_type": "markdown",
   "metadata": {},
   "source": [
    "### Create functions"
   ]
  },
  {
   "cell_type": "code",
   "execution_count": 2,
   "metadata": {},
   "outputs": [],
   "source": [
    "def make_children(age_col):\n",
    "    \"\"\"\n",
    "    Converts age column to categorical children/adult column\n",
    "    \"\"\"\n",
    "    if age_col <= 14:\n",
    "        return \"child\"\n",
    "    else:\n",
    "        return \"adult\"\n",
    "\n",
    "\n",
    "def groupby_mean(col_):\n",
    "    \"\"\"\n",
    "    Function will display a grouped by mean of one columns versus df\n",
    "    \"\"\"\n",
    "    print(train_df[mycol_list].groupby(col_).mean())\n",
    "\n",
    "\n",
    "def groupby_count(col_):\n",
    "    \"\"\"\n",
    "    Function will display a grouped by counts of one columns versus df\n",
    "    \"\"\"\n",
    "    print(train_df[mycol_list].groupby(col_).count())"
   ]
  },
  {
   "cell_type": "markdown",
   "metadata": {},
   "source": [
    "### Load datasets from pullscript\n"
   ]
  },
  {
   "cell_type": "code",
   "execution_count": 3,
   "metadata": {},
   "outputs": [
    {
     "data": {
      "text/plain": [
       "(891, 12)"
      ]
     },
     "execution_count": 3,
     "metadata": {},
     "output_type": "execute_result"
    }
   ],
   "source": [
    "train_df = train\n",
    "test_df = test\n",
    "train_df.shape"
   ]
  },
  {
   "cell_type": "markdown",
   "metadata": {},
   "source": [
    "### Create global variable (mycol_list)\n",
    "+ The below list will be used in the body of my group_by function calls\n",
    "    + Essentially it's a list of columns which are easy to visualize as grouped_by data"
   ]
  },
  {
   "cell_type": "code",
   "execution_count": 4,
   "metadata": {},
   "outputs": [],
   "source": [
    "my_cols = train_df.columns\n",
    "my_vals = 1, 2, 4, 5, 6, 7, 9, 11\n",
    "mycol_list = [my_cols[index] for index in my_vals]\n"
   ]
  },
  {
   "cell_type": "markdown",
   "metadata": {},
   "source": [
    "### display null"
   ]
  },
  {
   "cell_type": "code",
   "execution_count": 5,
   "metadata": {},
   "outputs": [
    {
     "data": {
      "text/plain": [
       "PassengerId      0\n",
       "Survived         0\n",
       "Pclass           0\n",
       "Name             0\n",
       "Sex              0\n",
       "Age            177\n",
       "SibSp            0\n",
       "Parch            0\n",
       "Ticket           0\n",
       "Fare             0\n",
       "Cabin          687\n",
       "Embarked         2\n",
       "dtype: int64"
      ]
     },
     "execution_count": 5,
     "metadata": {},
     "output_type": "execute_result"
    }
   ],
   "source": [
    "train_df.isnull().sum()"
   ]
  },
  {
   "cell_type": "markdown",
   "metadata": {},
   "source": [
    "## Data cleaning\n",
    "+ Age is missing  174 values\n",
    "    + Age is also missing a proportional amount in the testing data\n",
    "    + I will join both test and training data and explore the distribution to determine how to handle the Age column\n",
    "+ Cabin is missing nearly 687 values\n",
    "    + Drop entire cabin column\n",
    "+ Embarked is missing 2 values\n",
    "    + 2 rows with embarked NA can be safely discarded\n",
    "+ I have a suspicion that children are more likely to survive\n",
    "    + Create a child_v_adult column"
   ]
  },
  {
   "cell_type": "markdown",
   "metadata": {},
   "source": [
    "### Dealing with age"
   ]
  },
  {
   "cell_type": "code",
   "execution_count": 6,
   "metadata": {},
   "outputs": [
    {
     "data": {
      "text/plain": [
       "count    1046.000000\n",
       "mean       29.881138\n",
       "std        14.413493\n",
       "min         0.170000\n",
       "25%        21.000000\n",
       "50%        28.000000\n",
       "75%        39.000000\n",
       "max        80.000000\n",
       "Name: Age, dtype: float64"
      ]
     },
     "execution_count": 6,
     "metadata": {},
     "output_type": "execute_result"
    },
    {
     "data": {
      "image/png": "[encoded data removed]",
      "text/plain": [
       "<Figure size 432x288 with 1 Axes>"
      ]
     },
     "metadata": {},
     "output_type": "display_data"
    }
   ],
   "source": [
    "# visualization of Joined train[Age] & test[Age] \n",
    "whole_df = train_df.append(test_df, sort=True)\n",
    "age = whole_df.Age\n",
    "age.hist()\n",
    "age.describe()"
   ]
  },
  {
   "cell_type": "markdown",
   "metadata": {},
   "source": [
    "+ Children are much more likely to survive than the general public(data in group_by age section below, further confirms these results).  \n",
    "    + If I were to choose Mode or median, I would be eliminating children as a possibility for imputation\n",
    "    + Because of this I explore the relationship between siblings and age below, hoping to identify some children correctly with a special imputation\n",
    "    + However, I believe for the general case I will impute these age values with a -1, and allow my Random forest model to evaluate them as such."
   ]
  },
  {
   "cell_type": "markdown",
   "metadata": {},
   "source": [
    "### Is there a high correlation between number siblings and age?\n",
    "+ My initial thought is that passengers on the titanic with multiple siblings are more likely to be children. If there is a strong enough correlation in certain bins(explored below), than I can target these passengers with a separate  imputation. \n",
    "\n",
    " \n"
   ]
  },
  {
   "cell_type": "code",
   "execution_count": 7,
   "metadata": {},
   "outputs": [
    {
     "data": {
      "image/png": "[encoded data removed]",
      "text/plain": [
       "<Figure size 432x288 with 1 Axes>"
      ]
     },
     "metadata": {},
     "output_type": "display_data"
    }
   ],
   "source": [
    "fig, ax = plt.subplots()\n",
    "my_plot = ax.scatter(whole_df[\"SibSp\"], whole_df[\"Age\"])\n",
    "plt.show()"
   ]
  },
  {
   "cell_type": "code",
   "execution_count": 8,
   "metadata": {},
   "outputs": [
    {
     "name": "stdout",
     "output_type": "stream",
     "text": [
      "total count = 57 , Mean age = 11.766666666666667\n"
     ]
    }
   ],
   "source": [
    "three_plus_children_df = whole_df[whole_df['SibSp'] >= 3]\n",
    "count_children = len(three_plus_children_df)\n",
    "age_mean = three_plus_children_df[\"Age\"].mean()\n",
    "print(\"total count =\", count_children, \", Mean age =\", age_mean)"
   ]
  },
  {
   "cell_type": "markdown",
   "metadata": {},
   "source": [
    "### Initial thoughts on imputation"
   ]
  },
  {
   "cell_type": "markdown",
   "metadata": {},
   "source": [
    "+ My hypothesis seems correct, but the count is extremely low\n",
    "    + If we run a test for significance, I believe our confidence interval would likely indicate the average of this group being close to the mean displayed above(11.7)\n",
    "+ However, it is pretty unlikely that the missing age data, will have a significant number\n",
    "    of children which can be imputed like this\n",
    "    + lets look just in case"
   ]
  },
  {
   "cell_type": "code",
   "execution_count": 9,
   "metadata": {},
   "outputs": [
    {
     "data": {
      "text/plain": [
       "160    11.7\n",
       "177    11.7\n",
       "181    11.7\n",
       "202    11.7\n",
       "230    11.7\n",
       "325    11.7\n",
       "410    11.7\n",
       "486    11.7\n",
       "793    11.7\n",
       "847    11.7\n",
       "864    11.7\n",
       "Name: Age, dtype: float64"
      ]
     },
     "execution_count": 9,
     "metadata": {},
     "output_type": "execute_result"
    }
   ],
   "source": [
    "missing_age_df = whole_df[whole_df[\"Age\"].isna()]\n",
    "missing_and_na_age_df = missing_age_df[missing_age_df['SibSp'] >= 3]\n",
    "missing_and_na_age_df\n",
    "age_index_for_imputation1 = np.array(missing_and_na_age_df['PassengerId'])\n",
    "age_index_for_imputation2 = age_index_for_imputation1\n",
    "mapping_age_indexes = {x: 11.7 for x in age_index_for_imputation2[:-1]}\n",
    "mapping_age_indexes\n",
    "\n",
    "train_df.loc[mapping_age_indexes, \"Age\"] = 11.7\n",
    "\n",
    "train_df.loc[mapping_age_indexes, \"Age\"]"
   ]
  },
  {
   "cell_type": "markdown",
   "metadata": {},
   "source": [
    "### Imputation conclusions"
   ]
  },
  {
   "cell_type": "markdown",
   "metadata": {},
   "source": [
    "+ Only 12 cases that fit my special imputation.  \n",
    "+ I will run separate models based on the below criteria for imputation.  \n",
    "    + One with  imputation of -1 for missing values in the Age column.\n",
    "        + I am choosing -1 so that the RF model can treat these as special cases.  Setting them to the median would influence our model too much\n",
    "    + The other  a special imputation using the siblings variable and median age of that subset(like done above), followed by imputing the rest of the missing data with-1"
   ]
  },
  {
   "cell_type": "markdown",
   "metadata": {},
   "source": [
    "## Data Visualization\n",
    "\n",
    "### Handling NA for visual and summary purpose\n",
    "+ Below I will adjust NA in only the training df\n",
    "     + The reason I decide to visualize most of the data in the training set exclusively, is that our test set doesn't have a result for our target variable(survival)\n",
    "     + exploration of how the target variable reacts to my independent variables, is the focus of the data exploration below\n",
    "     + Actual column/row deletion will be done in the pipeline itself\n",
    "  "
   ]
  },
  {
   "cell_type": "code",
   "execution_count": 10,
   "metadata": {},
   "outputs": [
    {
     "data": {
      "text/plain": [
       "PassengerId        0\n",
       "Survived           0\n",
       "Pclass             0\n",
       "Name               0\n",
       "Sex                0\n",
       "Age              174\n",
       "SibSp              0\n",
       "Parch              0\n",
       "Ticket             0\n",
       "Fare               0\n",
       "Embarked           0\n",
       "child_v_adult      0\n",
       "dtype: int64"
      ]
     },
     "execution_count": 10,
     "metadata": {},
     "output_type": "execute_result"
    }
   ],
   "source": [
    "# Create children column in my dataframe\n",
    "train_df[\"child_v_adult\"] = train_df[\"Age\"].apply(make_children)\n",
    "\n",
    "# Drop cabin column\n",
    "train_df = train_df.drop(\"Cabin\", axis=1)\n",
    "\n",
    "# Drop rows where embarked=na\n",
    "train_df = train_df.dropna(subset=['Embarked'])\n",
    "# Rerun NA check\n",
    "train_df.isnull().sum()"
   ]
  },
  {
   "cell_type": "code",
   "execution_count": 11,
   "metadata": {},
   "outputs": [
    {
     "data": {
      "text/plain": [
       "array([[<matplotlib.axes._subplots.AxesSubplot object at 0x000000000CE3C4A8>,\n",
       "        <matplotlib.axes._subplots.AxesSubplot object at 0x000000000D265160>,\n",
       "        <matplotlib.axes._subplots.AxesSubplot object at 0x000000000D28C7F0>,\n",
       "        <matplotlib.axes._subplots.AxesSubplot object at 0x000000000D2B4E80>,\n",
       "        <matplotlib.axes._subplots.AxesSubplot object at 0x000000000D2E5518>,\n",
       "        <matplotlib.axes._subplots.AxesSubplot object at 0x000000000D2E5550>],\n",
       "       [<matplotlib.axes._subplots.AxesSubplot object at 0x000000000D33F278>,\n",
       "        <matplotlib.axes._subplots.AxesSubplot object at 0x000000000D366908>,\n",
       "        <matplotlib.axes._subplots.AxesSubplot object at 0x000000000D38EF98>,\n",
       "        <matplotlib.axes._subplots.AxesSubplot object at 0x000000000D3C0668>,\n",
       "        <matplotlib.axes._subplots.AxesSubplot object at 0x000000000D3E7CF8>,\n",
       "        <matplotlib.axes._subplots.AxesSubplot object at 0x000000000D4183C8>],\n",
       "       [<matplotlib.axes._subplots.AxesSubplot object at 0x000000000D445A58>,\n",
       "        <matplotlib.axes._subplots.AxesSubplot object at 0x000000000D473128>,\n",
       "        <matplotlib.axes._subplots.AxesSubplot object at 0x000000000D49B7B8>,\n",
       "        <matplotlib.axes._subplots.AxesSubplot object at 0x000000000D4C3E48>,\n",
       "        <matplotlib.axes._subplots.AxesSubplot object at 0x000000000D4F4518>,\n",
       "        <matplotlib.axes._subplots.AxesSubplot object at 0x000000000D51DBA8>],\n",
       "       [<matplotlib.axes._subplots.AxesSubplot object at 0x000000000D54F278>,\n",
       "        <matplotlib.axes._subplots.AxesSubplot object at 0x000000000D575908>,\n",
       "        <matplotlib.axes._subplots.AxesSubplot object at 0x000000000D5A0F98>,\n",
       "        <matplotlib.axes._subplots.AxesSubplot object at 0x000000000D5CF668>,\n",
       "        <matplotlib.axes._subplots.AxesSubplot object at 0x000000000D5F8CF8>,\n",
       "        <matplotlib.axes._subplots.AxesSubplot object at 0x000000000D62C3C8>],\n",
       "       [<matplotlib.axes._subplots.AxesSubplot object at 0x000000000D653A58>,\n",
       "        <matplotlib.axes._subplots.AxesSubplot object at 0x000000000D683128>,\n",
       "        <matplotlib.axes._subplots.AxesSubplot object at 0x000000000D6AD7B8>,\n",
       "        <matplotlib.axes._subplots.AxesSubplot object at 0x000000000D6D5E48>,\n",
       "        <matplotlib.axes._subplots.AxesSubplot object at 0x000000000D7064E0>,\n",
       "        <matplotlib.axes._subplots.AxesSubplot object at 0x000000000D72EB70>],\n",
       "       [<matplotlib.axes._subplots.AxesSubplot object at 0x000000000D761240>,\n",
       "        <matplotlib.axes._subplots.AxesSubplot object at 0x000000000D7898D0>,\n",
       "        <matplotlib.axes._subplots.AxesSubplot object at 0x000000000D7AFF60>,\n",
       "        <matplotlib.axes._subplots.AxesSubplot object at 0x000000000D7E0630>,\n",
       "        <matplotlib.axes._subplots.AxesSubplot object at 0x000000000CDF1CC0>,\n",
       "        <matplotlib.axes._subplots.AxesSubplot object at 0x000000000CDD2128>]],\n",
       "      dtype=object)"
      ]
     },
     "execution_count": 11,
     "metadata": {},
     "output_type": "execute_result"
    },
    {
     "data": {
      "image/png": "[encoded data removed]",
      "text/plain": [
       "<Figure size 432x432 with 36 Axes>"
      ]
     },
     "metadata": {},
     "output_type": "display_data"
    }
   ],
   "source": [
    "scatter_matrix(whole_df[mycol_list], alpha=0.2, figsize=(6, 6), diagonal='kde')"
   ]
  },
  {
   "cell_type": "code",
   "execution_count": 12,
   "metadata": {},
   "outputs": [
    {
     "data": {
      "image/png": "[encoded data removed]",
      "text/plain": [
       "<Figure size 432x288 with 9 Axes>"
      ]
     },
     "metadata": {},
     "output_type": "display_data"
    }
   ],
   "source": [
    "train_df[mycol_list].plot(kind='density', subplots=True, layout=(3, 3),\n",
    "                          sharex=False)\n",
    "plt.show()"
   ]
  },
  {
   "cell_type": "code",
   "execution_count": 13,
   "metadata": {},
   "outputs": [
    {
     "data": {
      "image/png": "[encoded data removed]",
      "text/plain": [
       "<Figure size 432x288 with 2 Axes>"
      ]
     },
     "metadata": {},
     "output_type": "display_data"
    }
   ],
   "source": [
    "names = whole_df[mycol_list].columns\n",
    "correlations = train_df[mycol_list].corr()\n",
    "# plot correlation matrix\n",
    "fig = plt.figure()\n",
    "ax = fig.add_subplot(111)\n",
    "cax = ax.matshow(correlations, vmin=-1, vmax=1, cmap=plt.cm.inferno)\n",
    "fig.colorbar(cax)\n",
    "ticks = np.arange(0, 6, 1)\n",
    "ax.set_xticks(ticks)\n",
    "ax.set_yticks(ticks)\n",
    "ax.set_xticklabels(names)\n",
    "ax.set_yticklabels(names)\n",
    "plt.show()"
   ]
  },
  {
   "cell_type": "markdown",
   "metadata": {},
   "source": [
    "### Initial observations\n",
    "+ Pclass 3 has most of the passengers \n",
    "+ Appears that some of our independent variables may share high correlations with each other\n",
    "+ Many more people died than survived\n",
    "+ Numerical data is roughly normally distributed\n",
    "\n",
    "### Overall Categorical data makes heatmaps and Scattermatrix rather uninformative\n",
    "+ There are some small inferences that can be drawn from ordinal categories\n",
    "    + However, to visualize these relationships, I want to create a group_by functions and apply that function to most of these categorical variables\n",
    "    + As Survival rate(our target) is a binary column, it will be extremely interpretable with such an approach"
   ]
  },
  {
   "cell_type": "markdown",
   "metadata": {},
   "source": [
    "### Apply custom groupby function\n",
    "+ The first function groups by a list of columns I want to explore(mycol_list), and displays count \n",
    "+ The second function groups by a list of columns I want to explore(mycol_list), and displays mean "
   ]
  },
  {
   "cell_type": "code",
   "execution_count": 14,
   "metadata": {},
   "outputs": [
    {
     "name": "stdout",
     "output_type": "stream",
     "text": [
      "          Survived  Pclass  Sex  Age  SibSp  Parch  Fare  Embarked\n",
      "Survived                                                          \n",
      "0              549     549  549  427    549    549   549       549\n",
      "1              340     340  340  288    340    340   340       340\n",
      "        Survived  Pclass  Sex  Age  SibSp  Parch  Fare  Embarked\n",
      "Pclass                                                          \n",
      "1            214     214  214  185    214    214   214       214\n",
      "2            184     184  184  174    184    184   184       184\n",
      "3            491     491  491  356    491    491   491       491\n",
      "        Survived  Pclass  Sex  Age  SibSp  Parch  Fare  Embarked\n",
      "Sex                                                             \n",
      "female       312     312  312  259    312    312   312       312\n",
      "male         577     577  577  456    577    577   577       577\n",
      "       Survived  Pclass  Sex  Age  SibSp  Parch  Fare  Embarked\n",
      "SibSp                                                          \n",
      "0           606     606  606  472    606    606   606       606\n",
      "1           209     209  209  183    209    209   209       209\n",
      "2            28      28   28   25     28     28    28        28\n",
      "3            16      16   16   12     16     16    16        16\n",
      "4            18      18   18   18     18     18    18        18\n",
      "5             5       5    5    5      5      5     5         5\n",
      "8             7       7    7    0      7      7     7         7\n",
      "       Survived  Pclass  Sex  Age  SibSp  Parch  Fare  Embarked\n",
      "Parch                                                          \n",
      "0           676     676  676  522    676    676   676       676\n",
      "1           118     118  118  110    118    118   118       118\n",
      "2            80      80   80   68     80     80    80        80\n",
      "3             5       5    5    5      5      5     5         5\n",
      "4             4       4    4    4      4      4     4         4\n",
      "5             5       5    5    5      5      5     5         5\n",
      "6             1       1    1    1      1      1     1         1\n",
      "               Survived  Pclass  Sex  Age  SibSp  Parch  Fare  Embarked\n",
      "child_v_adult                                                          \n",
      "adult               801     801  801  627    801    801   801       801\n",
      "child                88      88   88   88     88     88    88        88\n"
     ]
    },
    {
     "data": {
      "text/plain": [
       "Survived         None\n",
       "Pclass           None\n",
       "Sex              None\n",
       "SibSp            None\n",
       "Parch            None\n",
       "child_v_adult    None\n",
       "dtype: object"
      ]
     },
     "execution_count": 14,
     "metadata": {},
     "output_type": "execute_result"
    }
   ],
   "source": [
    "train_df[[\"Survived\", \"Pclass\", \"Sex\", \"SibSp\",\n",
    "          \"Parch\", \"child_v_adult\"]].apply(groupby_count)"
   ]
  },
  {
   "cell_type": "code",
   "execution_count": 15,
   "metadata": {},
   "outputs": [
    {
     "name": "stdout",
     "output_type": "stream",
     "text": [
      "          Survived    Pclass        Age     SibSp     Parch       Fare\n",
      "Survived                                                              \n",
      "0              0.0  2.531876  30.192272  0.553734  0.329690  22.117887\n",
      "1              1.0  1.955882  27.947118  0.476471  0.467647  48.209498\n",
      "        Survived  Pclass        Age     SibSp     Parch       Fare\n",
      "Pclass                                                            \n",
      "1       0.626168     1.0  37.372541  0.420561  0.359813  84.193516\n",
      "2       0.472826     2.0  29.702471  0.402174  0.380435  20.662183\n",
      "3       0.242363     3.0  24.884045  0.615071  0.393075  13.675550\n",
      "        Survived    Pclass        Age     SibSp     Parch       Fare\n",
      "Sex                                                                 \n",
      "female  0.740385  2.166667  27.323552  0.698718  0.653846  44.252124\n",
      "male    0.188908  2.389948  30.403662  0.429809  0.235702  25.523893\n",
      "       Survived    Pclass        Age  SibSp     Parch       Fare\n",
      "SibSp                                                           \n",
      "0      0.343234  2.356436  30.869809    0.0  0.186469  25.512794\n",
      "1      0.535885  2.057416  29.835082    1.0  0.655502  44.147370\n",
      "2      0.464286  2.357143  22.620000    2.0  0.642857  51.753718\n",
      "3      0.250000  2.562500  13.916667    3.0  1.312500  68.908862\n",
      "4      0.166667  3.000000   7.055556    4.0  1.500000  31.855556\n",
      "5      0.000000  3.000000  10.200000    5.0  2.000000  46.900000\n",
      "8      0.000000  3.000000        NaN    8.0  2.000000  69.550000\n",
      "       Survived    Pclass        Age     SibSp  Parch       Fare\n",
      "Parch                                                           \n",
      "0      0.341716  2.325444  31.672414  0.238166    0.0  25.425788\n",
      "1      0.550847  2.203390  24.128364  1.084746    1.0  46.778180\n",
      "2      0.500000  2.275000  17.216912  2.062500    2.0  64.337604\n",
      "3      0.600000  2.600000  33.200000  1.000000    3.0  25.951660\n",
      "4      0.000000  2.500000  44.500000  0.750000    4.0  84.968750\n",
      "5      0.200000  3.000000  39.200000  0.600000    5.0  32.550000\n",
      "6      0.000000  3.000000  43.000000  1.000000    6.0  46.900000\n",
      "               Survived    Pclass        Age     SibSp     Parch       Fare\n",
      "child_v_adult                                                              \n",
      "adult          0.364544  2.287141  32.492823  0.403246  0.294632  32.010616\n",
      "child          0.545455  2.534091   6.453068  1.625000  1.181818  32.880065\n"
     ]
    },
    {
     "data": {
      "text/plain": [
       "Survived         None\n",
       "Pclass           None\n",
       "Sex              None\n",
       "SibSp            None\n",
       "Parch            None\n",
       "child_v_adult    None\n",
       "dtype: object"
      ]
     },
     "execution_count": 15,
     "metadata": {},
     "output_type": "execute_result"
    }
   ],
   "source": [
    "train_df[[\"Survived\", \"Pclass\", \"Sex\", \"SibSp\", \"Parch\",\n",
    "          \"child_v_adult\"]].apply(groupby_mean)"
   ]
  },
  {
   "cell_type": "markdown",
   "metadata": {},
   "source": [
    "### Now the data is starting to say something \n",
    "+ Decently large gap between Pclass and survival(lowerPclass=higher survival)\n",
    "+ Females were much more likely to survive than males(74%,19%)\n",
    "+ Seems like anyone with over 3 siblings had a very low chance of survival(very low sample)\n",
    "+ 58% of children under the age of 14 survived, only 36% adults survived\n",
    "\n",
    "\n",
    "\n",
    "### Before I explore some deeper analysis, I want to confirm how our target variable looks in some scatterplots\n",
    "+ Originally I was able to install plotnine and run ggplot in virtual environment.  \n",
    "+ Unfortunately I couldn't replicate the steps I took in order to somehow force the installation when I loaded requirements file in new virtual environment. \n",
    "+ Therefore I have saved the png files from scatterplots and posted them below\n",
    "    + If links don't load, images are uploaded to github"
   ]
  },
  {
   "cell_type": "markdown",
   "metadata": {},
   "source": [
    "[PcClass- survived](https://github.com/justinherman42/data_606/blob/master/output_35_1.png)<br> \n",
    "[sex- survived](https://raw.githubusercontent.com/justinherman42/data_606/master/output_36_1.png)<br>\n",
    "[sibsp-survived](https://raw.githubusercontent.com/justinherman42/data_606/master/output_37_1.png)<br>\n",
    "[Fare-survived](https://raw.githubusercontent.com/justinherman42/data_606/master/output_38_1.png)"
   ]
  },
  {
   "cell_type": "code",
   "execution_count": 20,
   "metadata": {},
   "outputs": [
    {
     "data": {
      "text/plain": [
       "Pclass\n",
       "1    58.6896\n",
       "2    14.2500\n",
       "3     8.0500\n",
       "Name: Fare, dtype: float64"
      ]
     },
     "execution_count": 20,
     "metadata": {},
     "output_type": "execute_result"
    }
   ],
   "source": [
    "grouped_pclass = train_df.groupby(\"Pclass\")\n",
    "grouped_pclass[\"Fare\"].agg(np.median)"
   ]
  },
  {
   "cell_type": "markdown",
   "metadata": {},
   "source": [
    "### summary of scatter plots\n",
    "+ Confirmation of what our group_by function showed us\n",
    "    + Males, Higher pclass, and more Siblings all lead to higher likelihood of death"
   ]
  },
  {
   "cell_type": "markdown",
   "metadata": {},
   "source": [
    "## Questions for deeper analysis\n",
    "+ Were Women/ children in lower class seating or with lower cost tickets less likely to survive?\n",
    "    + To test these questions I will split the database into an expensive_ticket db and a cheap_tickets_db\n",
    "        + I chose 50 \\$ as expensive.  \n",
    "        + The 75 % quartile would have been 33 \\$.  \n",
    "        + 58 \\$ was the median for Pclass 1. \n",
    "        + Some class 2 and 3 tickets cost 50$ and more"
   ]
  },
  {
   "cell_type": "code",
   "execution_count": 21,
   "metadata": {},
   "outputs": [
    {
     "data": {
      "text/plain": [
       "1    107\n",
       "0     52\n",
       "Name: Survived, dtype: int64"
      ]
     },
     "execution_count": 21,
     "metadata": {},
     "output_type": "execute_result"
    }
   ],
   "source": [
    "expensive_tickets = train_df[train_df[\"Fare\"] >= 50]\n",
    "expensive_tickets[\"Survived\"].value_counts()"
   ]
  },
  {
   "cell_type": "code",
   "execution_count": 22,
   "metadata": {},
   "outputs": [
    {
     "data": {
      "text/plain": [
       "0    497\n",
       "1    233\n",
       "Name: Survived, dtype: int64"
      ]
     },
     "execution_count": 22,
     "metadata": {},
     "output_type": "execute_result"
    }
   ],
   "source": [
    "cheap_tickets = train_df[train_df[\"Fare\"] < 50]\n",
    "cheap_tickets[\"Survived\"].value_counts()"
   ]
  },
  {
   "cell_type": "code",
   "execution_count": 23,
   "metadata": {},
   "outputs": [
    {
     "data": {
      "text/html": [
       "<div>\n",
       "<style scoped>\n",
       "    .dataframe tbody tr th:only-of-type {\n",
       "        vertical-align: middle;\n",
       "    }\n",
       "\n",
       "    .dataframe tbody tr th {\n",
       "        vertical-align: top;\n",
       "    }\n",
       "\n",
       "    .dataframe thead th {\n",
       "        text-align: right;\n",
       "    }\n",
       "</style>\n",
       "<table border=\"1\" class=\"dataframe\">\n",
       "  <thead>\n",
       "    <tr style=\"text-align: right;\">\n",
       "      <th></th>\n",
       "      <th>PassengerId</th>\n",
       "      <th>Survived</th>\n",
       "      <th>Pclass</th>\n",
       "      <th>Age</th>\n",
       "      <th>SibSp</th>\n",
       "      <th>Parch</th>\n",
       "      <th>Fare</th>\n",
       "    </tr>\n",
       "    <tr>\n",
       "      <th>Sex</th>\n",
       "      <th></th>\n",
       "      <th></th>\n",
       "      <th></th>\n",
       "      <th></th>\n",
       "      <th></th>\n",
       "      <th></th>\n",
       "      <th></th>\n",
       "    </tr>\n",
       "  </thead>\n",
       "  <tbody>\n",
       "    <tr>\n",
       "      <th>female</th>\n",
       "      <td>416.753304</td>\n",
       "      <td>0.665198</td>\n",
       "      <td>2.568282</td>\n",
       "      <td>25.057527</td>\n",
       "      <td>0.621145</td>\n",
       "      <td>0.687225</td>\n",
       "      <td>17.851617</td>\n",
       "    </tr>\n",
       "    <tr>\n",
       "      <th>male</th>\n",
       "      <td>458.021869</td>\n",
       "      <td>0.163022</td>\n",
       "      <td>2.540755</td>\n",
       "      <td>29.567812</td>\n",
       "      <td>0.341948</td>\n",
       "      <td>0.188867</td>\n",
       "      <td>14.439602</td>\n",
       "    </tr>\n",
       "  </tbody>\n",
       "</table>\n",
       "</div>"
      ],
      "text/plain": [
       "        PassengerId  Survived    Pclass        Age     SibSp     Parch  \\\n",
       "Sex                                                                      \n",
       "female   416.753304  0.665198  2.568282  25.057527  0.621145  0.687225   \n",
       "male     458.021869  0.163022  2.540755  29.567812  0.341948  0.188867   \n",
       "\n",
       "             Fare  \n",
       "Sex                \n",
       "female  17.851617  \n",
       "male    14.439602  "
      ]
     },
     "execution_count": 23,
     "metadata": {},
     "output_type": "execute_result"
    }
   ],
   "source": [
    "cheap_tickets.groupby(\"Sex\").mean()"
   ]
  },
  {
   "cell_type": "code",
   "execution_count": 24,
   "metadata": {},
   "outputs": [
    {
     "data": {
      "text/html": [
       "<div>\n",
       "<style scoped>\n",
       "    .dataframe tbody tr th:only-of-type {\n",
       "        vertical-align: middle;\n",
       "    }\n",
       "\n",
       "    .dataframe tbody tr th {\n",
       "        vertical-align: top;\n",
       "    }\n",
       "\n",
       "    .dataframe thead th {\n",
       "        text-align: right;\n",
       "    }\n",
       "</style>\n",
       "<table border=\"1\" class=\"dataframe\">\n",
       "  <thead>\n",
       "    <tr style=\"text-align: right;\">\n",
       "      <th></th>\n",
       "      <th>PassengerId</th>\n",
       "      <th>Survived</th>\n",
       "      <th>Pclass</th>\n",
       "      <th>Age</th>\n",
       "      <th>SibSp</th>\n",
       "      <th>Parch</th>\n",
       "      <th>Fare</th>\n",
       "    </tr>\n",
       "    <tr>\n",
       "      <th>Sex</th>\n",
       "      <th></th>\n",
       "      <th></th>\n",
       "      <th></th>\n",
       "      <th></th>\n",
       "      <th></th>\n",
       "      <th></th>\n",
       "      <th></th>\n",
       "    </tr>\n",
       "  </thead>\n",
       "  <tbody>\n",
       "    <tr>\n",
       "      <th>female</th>\n",
       "      <td>468.800000</td>\n",
       "      <td>0.941176</td>\n",
       "      <td>1.094118</td>\n",
       "      <td>33.097260</td>\n",
       "      <td>0.905882</td>\n",
       "      <td>0.564706</td>\n",
       "      <td>114.757009</td>\n",
       "    </tr>\n",
       "    <tr>\n",
       "      <th>male</th>\n",
       "      <td>427.810811</td>\n",
       "      <td>0.364865</td>\n",
       "      <td>1.364865</td>\n",
       "      <td>35.617778</td>\n",
       "      <td>1.027027</td>\n",
       "      <td>0.554054</td>\n",
       "      <td>100.867116</td>\n",
       "    </tr>\n",
       "  </tbody>\n",
       "</table>\n",
       "</div>"
      ],
      "text/plain": [
       "        PassengerId  Survived    Pclass        Age     SibSp     Parch  \\\n",
       "Sex                                                                      \n",
       "female   468.800000  0.941176  1.094118  33.097260  0.905882  0.564706   \n",
       "male     427.810811  0.364865  1.364865  35.617778  1.027027  0.554054   \n",
       "\n",
       "              Fare  \n",
       "Sex                 \n",
       "female  114.757009  \n",
       "male    100.867116  "
      ]
     },
     "execution_count": 24,
     "metadata": {},
     "output_type": "execute_result"
    }
   ],
   "source": [
    "expensive_tickets.groupby(\"Sex\").mean()"
   ]
  },
  {
   "cell_type": "markdown",
   "metadata": {},
   "source": [
    "\n"
   ]
  },
  {
   "cell_type": "code",
   "execution_count": 25,
   "metadata": {},
   "outputs": [
    {
     "data": {
      "text/html": [
       "<div>\n",
       "<style scoped>\n",
       "    .dataframe tbody tr th:only-of-type {\n",
       "        vertical-align: middle;\n",
       "    }\n",
       "\n",
       "    .dataframe tbody tr th {\n",
       "        vertical-align: top;\n",
       "    }\n",
       "\n",
       "    .dataframe thead th {\n",
       "        text-align: right;\n",
       "    }\n",
       "</style>\n",
       "<table border=\"1\" class=\"dataframe\">\n",
       "  <thead>\n",
       "    <tr style=\"text-align: right;\">\n",
       "      <th></th>\n",
       "      <th>PassengerId</th>\n",
       "      <th>Survived</th>\n",
       "      <th>Pclass</th>\n",
       "      <th>Age</th>\n",
       "      <th>SibSp</th>\n",
       "      <th>Parch</th>\n",
       "      <th>Fare</th>\n",
       "    </tr>\n",
       "    <tr>\n",
       "      <th>child_v_adult</th>\n",
       "      <th></th>\n",
       "      <th></th>\n",
       "      <th></th>\n",
       "      <th></th>\n",
       "      <th></th>\n",
       "      <th></th>\n",
       "      <th></th>\n",
       "    </tr>\n",
       "  </thead>\n",
       "  <tbody>\n",
       "    <tr>\n",
       "      <th>adult</th>\n",
       "      <td>447.226154</td>\n",
       "      <td>0.295385</td>\n",
       "      <td>2.532308</td>\n",
       "      <td>31.623246</td>\n",
       "      <td>0.270769</td>\n",
       "      <td>0.241538</td>\n",
       "      <td>14.393935</td>\n",
       "    </tr>\n",
       "    <tr>\n",
       "      <th>child</th>\n",
       "      <td>428.637500</td>\n",
       "      <td>0.512500</td>\n",
       "      <td>2.687500</td>\n",
       "      <td>6.260625</td>\n",
       "      <td>1.712500</td>\n",
       "      <td>1.175000</td>\n",
       "      <td>24.492239</td>\n",
       "    </tr>\n",
       "  </tbody>\n",
       "</table>\n",
       "</div>"
      ],
      "text/plain": [
       "               PassengerId  Survived    Pclass        Age     SibSp     Parch  \\\n",
       "child_v_adult                                                                   \n",
       "adult           447.226154  0.295385  2.532308  31.623246  0.270769  0.241538   \n",
       "child           428.637500  0.512500  2.687500   6.260625  1.712500  1.175000   \n",
       "\n",
       "                    Fare  \n",
       "child_v_adult             \n",
       "adult          14.393935  \n",
       "child          24.492239  "
      ]
     },
     "execution_count": 25,
     "metadata": {},
     "output_type": "execute_result"
    }
   ],
   "source": [
    "cheap_tickets.groupby(\"child_v_adult\").mean()"
   ]
  },
  {
   "cell_type": "code",
   "execution_count": 26,
   "metadata": {},
   "outputs": [
    {
     "data": {
      "text/html": [
       "<div>\n",
       "<style scoped>\n",
       "    .dataframe tbody tr th:only-of-type {\n",
       "        vertical-align: middle;\n",
       "    }\n",
       "\n",
       "    .dataframe tbody tr th {\n",
       "        vertical-align: top;\n",
       "    }\n",
       "\n",
       "    .dataframe thead th {\n",
       "        text-align: right;\n",
       "    }\n",
       "</style>\n",
       "<table border=\"1\" class=\"dataframe\">\n",
       "  <thead>\n",
       "    <tr style=\"text-align: right;\">\n",
       "      <th></th>\n",
       "      <th>PassengerId</th>\n",
       "      <th>Survived</th>\n",
       "      <th>Pclass</th>\n",
       "      <th>Age</th>\n",
       "      <th>SibSp</th>\n",
       "      <th>Parch</th>\n",
       "      <th>Fare</th>\n",
       "    </tr>\n",
       "    <tr>\n",
       "      <th>child_v_adult</th>\n",
       "      <th></th>\n",
       "      <th></th>\n",
       "      <th></th>\n",
       "      <th></th>\n",
       "      <th></th>\n",
       "      <th></th>\n",
       "      <th></th>\n",
       "    </tr>\n",
       "  </thead>\n",
       "  <tbody>\n",
       "    <tr>\n",
       "      <th>adult</th>\n",
       "      <td>451.476821</td>\n",
       "      <td>0.662252</td>\n",
       "      <td>1.231788</td>\n",
       "      <td>35.882812</td>\n",
       "      <td>0.97351</td>\n",
       "      <td>0.523179</td>\n",
       "      <td>107.844012</td>\n",
       "    </tr>\n",
       "    <tr>\n",
       "      <th>child</th>\n",
       "      <td>416.625000</td>\n",
       "      <td>0.875000</td>\n",
       "      <td>1.000000</td>\n",
       "      <td>8.377500</td>\n",
       "      <td>0.75000</td>\n",
       "      <td>1.250000</td>\n",
       "      <td>116.758325</td>\n",
       "    </tr>\n",
       "  </tbody>\n",
       "</table>\n",
       "</div>"
      ],
      "text/plain": [
       "               PassengerId  Survived    Pclass        Age    SibSp     Parch  \\\n",
       "child_v_adult                                                                  \n",
       "adult           451.476821  0.662252  1.231788  35.882812  0.97351  0.523179   \n",
       "child           416.625000  0.875000  1.000000   8.377500  0.75000  1.250000   \n",
       "\n",
       "                     Fare  \n",
       "child_v_adult              \n",
       "adult          107.844012  \n",
       "child          116.758325  "
      ]
     },
     "execution_count": 26,
     "metadata": {},
     "output_type": "execute_result"
    }
   ],
   "source": [
    "expensive_tickets.groupby(\"child_v_adult\").mean()"
   ]
  },
  {
   "cell_type": "markdown",
   "metadata": {},
   "source": [
    "### Using Pclass as a Proxy measure of wealth\n",
    "+ I believe pclass will show similar results and doesn't require creation of a new categorical column\n"
   ]
  },
  {
   "cell_type": "code",
   "execution_count": 27,
   "metadata": {},
   "outputs": [
    {
     "data": {
      "text/html": [
       "<div>\n",
       "<style scoped>\n",
       "    .dataframe tbody tr th:only-of-type {\n",
       "        vertical-align: middle;\n",
       "    }\n",
       "\n",
       "    .dataframe tbody tr th {\n",
       "        vertical-align: top;\n",
       "    }\n",
       "\n",
       "    .dataframe thead th {\n",
       "        text-align: right;\n",
       "    }\n",
       "</style>\n",
       "<table border=\"1\" class=\"dataframe\">\n",
       "  <thead>\n",
       "    <tr style=\"text-align: right;\">\n",
       "      <th></th>\n",
       "      <th></th>\n",
       "      <th>PassengerId</th>\n",
       "      <th>Survived</th>\n",
       "      <th>Age</th>\n",
       "      <th>SibSp</th>\n",
       "      <th>Parch</th>\n",
       "      <th>Fare</th>\n",
       "    </tr>\n",
       "    <tr>\n",
       "      <th>Pclass</th>\n",
       "      <th>Sex</th>\n",
       "      <th></th>\n",
       "      <th></th>\n",
       "      <th></th>\n",
       "      <th></th>\n",
       "      <th></th>\n",
       "      <th></th>\n",
       "    </tr>\n",
       "  </thead>\n",
       "  <tbody>\n",
       "    <tr>\n",
       "      <th rowspan=\"2\" valign=\"top\">1</th>\n",
       "      <th>female</th>\n",
       "      <td>469.717391</td>\n",
       "      <td>0.967391</td>\n",
       "      <td>32.925301</td>\n",
       "      <td>0.565217</td>\n",
       "      <td>0.467391</td>\n",
       "      <td>106.693750</td>\n",
       "    </tr>\n",
       "    <tr>\n",
       "      <th>male</th>\n",
       "      <td>455.729508</td>\n",
       "      <td>0.368852</td>\n",
       "      <td>40.991373</td>\n",
       "      <td>0.311475</td>\n",
       "      <td>0.278689</td>\n",
       "      <td>67.226127</td>\n",
       "    </tr>\n",
       "    <tr>\n",
       "      <th rowspan=\"2\" valign=\"top\">2</th>\n",
       "      <th>female</th>\n",
       "      <td>443.105263</td>\n",
       "      <td>0.921053</td>\n",
       "      <td>28.722973</td>\n",
       "      <td>0.486842</td>\n",
       "      <td>0.605263</td>\n",
       "      <td>21.970121</td>\n",
       "    </tr>\n",
       "    <tr>\n",
       "      <th>male</th>\n",
       "      <td>447.962963</td>\n",
       "      <td>0.157407</td>\n",
       "      <td>30.427300</td>\n",
       "      <td>0.342593</td>\n",
       "      <td>0.222222</td>\n",
       "      <td>19.741782</td>\n",
       "    </tr>\n",
       "    <tr>\n",
       "      <th rowspan=\"2\" valign=\"top\">3</th>\n",
       "      <th>female</th>\n",
       "      <td>399.729167</td>\n",
       "      <td>0.500000</td>\n",
       "      <td>21.750000</td>\n",
       "      <td>0.895833</td>\n",
       "      <td>0.798611</td>\n",
       "      <td>16.118810</td>\n",
       "    </tr>\n",
       "    <tr>\n",
       "      <th>male</th>\n",
       "      <td>455.515850</td>\n",
       "      <td>0.135447</td>\n",
       "      <td>26.142598</td>\n",
       "      <td>0.498559</td>\n",
       "      <td>0.224784</td>\n",
       "      <td>12.661633</td>\n",
       "    </tr>\n",
       "  </tbody>\n",
       "</table>\n",
       "</div>"
      ],
      "text/plain": [
       "               PassengerId  Survived        Age     SibSp     Parch  \\\n",
       "Pclass Sex                                                            \n",
       "1      female   469.717391  0.967391  32.925301  0.565217  0.467391   \n",
       "       male     455.729508  0.368852  40.991373  0.311475  0.278689   \n",
       "2      female   443.105263  0.921053  28.722973  0.486842  0.605263   \n",
       "       male     447.962963  0.157407  30.427300  0.342593  0.222222   \n",
       "3      female   399.729167  0.500000  21.750000  0.895833  0.798611   \n",
       "       male     455.515850  0.135447  26.142598  0.498559  0.224784   \n",
       "\n",
       "                     Fare  \n",
       "Pclass Sex                 \n",
       "1      female  106.693750  \n",
       "       male     67.226127  \n",
       "2      female   21.970121  \n",
       "       male     19.741782  \n",
       "3      female   16.118810  \n",
       "       male     12.661633  "
      ]
     },
     "execution_count": 27,
     "metadata": {},
     "output_type": "execute_result"
    }
   ],
   "source": [
    "train_df.groupby(['Pclass', 'Sex']).mean()"
   ]
  },
  {
   "cell_type": "code",
   "execution_count": 28,
   "metadata": {},
   "outputs": [
    {
     "data": {
      "text/html": [
       "<div>\n",
       "<style scoped>\n",
       "    .dataframe tbody tr th:only-of-type {\n",
       "        vertical-align: middle;\n",
       "    }\n",
       "\n",
       "    .dataframe tbody tr th {\n",
       "        vertical-align: top;\n",
       "    }\n",
       "\n",
       "    .dataframe thead th {\n",
       "        text-align: right;\n",
       "    }\n",
       "</style>\n",
       "<table border=\"1\" class=\"dataframe\">\n",
       "  <thead>\n",
       "    <tr style=\"text-align: right;\">\n",
       "      <th></th>\n",
       "      <th></th>\n",
       "      <th>PassengerId</th>\n",
       "      <th>Survived</th>\n",
       "      <th>Age</th>\n",
       "      <th>SibSp</th>\n",
       "      <th>Parch</th>\n",
       "      <th>Fare</th>\n",
       "    </tr>\n",
       "    <tr>\n",
       "      <th>Pclass</th>\n",
       "      <th>child_v_adult</th>\n",
       "      <th></th>\n",
       "      <th></th>\n",
       "      <th></th>\n",
       "      <th></th>\n",
       "      <th></th>\n",
       "      <th></th>\n",
       "    </tr>\n",
       "  </thead>\n",
       "  <tbody>\n",
       "    <tr>\n",
       "      <th rowspan=\"2\" valign=\"top\">1</th>\n",
       "      <th>adult</th>\n",
       "      <td>463.274510</td>\n",
       "      <td>0.622549</td>\n",
       "      <td>38.991429</td>\n",
       "      <td>0.411765</td>\n",
       "      <td>0.328431</td>\n",
       "      <td>83.450675</td>\n",
       "    </tr>\n",
       "    <tr>\n",
       "      <th>child</th>\n",
       "      <td>430.500000</td>\n",
       "      <td>0.700000</td>\n",
       "      <td>9.042000</td>\n",
       "      <td>0.600000</td>\n",
       "      <td>1.000000</td>\n",
       "      <td>99.347490</td>\n",
       "    </tr>\n",
       "    <tr>\n",
       "      <th rowspan=\"2\" valign=\"top\">2</th>\n",
       "      <th>adult</th>\n",
       "      <td>447.122699</td>\n",
       "      <td>0.417178</td>\n",
       "      <td>33.062092</td>\n",
       "      <td>0.361963</td>\n",
       "      <td>0.282209</td>\n",
       "      <td>19.850537</td>\n",
       "    </tr>\n",
       "    <tr>\n",
       "      <th>child</th>\n",
       "      <td>436.904762</td>\n",
       "      <td>0.904762</td>\n",
       "      <td>5.225238</td>\n",
       "      <td>0.714286</td>\n",
       "      <td>1.142857</td>\n",
       "      <td>26.962105</td>\n",
       "    </tr>\n",
       "    <tr>\n",
       "      <th rowspan=\"2\" valign=\"top\">3</th>\n",
       "      <th>adult</th>\n",
       "      <td>441.200461</td>\n",
       "      <td>0.223502</td>\n",
       "      <td>28.397993</td>\n",
       "      <td>0.414747</td>\n",
       "      <td>0.283410</td>\n",
       "      <td>12.398453</td>\n",
       "    </tr>\n",
       "    <tr>\n",
       "      <th>child</th>\n",
       "      <td>423.578947</td>\n",
       "      <td>0.385965</td>\n",
       "      <td>6.451228</td>\n",
       "      <td>2.140351</td>\n",
       "      <td>1.228070</td>\n",
       "      <td>23.399414</td>\n",
       "    </tr>\n",
       "  </tbody>\n",
       "</table>\n",
       "</div>"
      ],
      "text/plain": [
       "                      PassengerId  Survived        Age     SibSp     Parch  \\\n",
       "Pclass child_v_adult                                                         \n",
       "1      adult           463.274510  0.622549  38.991429  0.411765  0.328431   \n",
       "       child           430.500000  0.700000   9.042000  0.600000  1.000000   \n",
       "2      adult           447.122699  0.417178  33.062092  0.361963  0.282209   \n",
       "       child           436.904762  0.904762   5.225238  0.714286  1.142857   \n",
       "3      adult           441.200461  0.223502  28.397993  0.414747  0.283410   \n",
       "       child           423.578947  0.385965   6.451228  2.140351  1.228070   \n",
       "\n",
       "                           Fare  \n",
       "Pclass child_v_adult             \n",
       "1      adult          83.450675  \n",
       "       child          99.347490  \n",
       "2      adult          19.850537  \n",
       "       child          26.962105  \n",
       "3      adult          12.398453  \n",
       "       child          23.399414  "
      ]
     },
     "execution_count": 28,
     "metadata": {},
     "output_type": "execute_result"
    }
   ],
   "source": [
    "train_df.groupby(['Pclass', 'child_v_adult']).mean()"
   ]
  },
  {
   "cell_type": "code",
   "execution_count": 29,
   "metadata": {},
   "outputs": [
    {
     "data": {
      "text/html": [
       "<div>\n",
       "<style scoped>\n",
       "    .dataframe tbody tr th:only-of-type {\n",
       "        vertical-align: middle;\n",
       "    }\n",
       "\n",
       "    .dataframe tbody tr th {\n",
       "        vertical-align: top;\n",
       "    }\n",
       "\n",
       "    .dataframe thead th {\n",
       "        text-align: right;\n",
       "    }\n",
       "</style>\n",
       "<table border=\"1\" class=\"dataframe\">\n",
       "  <thead>\n",
       "    <tr style=\"text-align: right;\">\n",
       "      <th></th>\n",
       "      <th></th>\n",
       "      <th></th>\n",
       "      <th>PassengerId</th>\n",
       "      <th>Survived</th>\n",
       "      <th>Age</th>\n",
       "      <th>SibSp</th>\n",
       "      <th>Parch</th>\n",
       "      <th>Fare</th>\n",
       "    </tr>\n",
       "    <tr>\n",
       "      <th>Pclass</th>\n",
       "      <th>Sex</th>\n",
       "      <th>child_v_adult</th>\n",
       "      <th></th>\n",
       "      <th></th>\n",
       "      <th></th>\n",
       "      <th></th>\n",
       "      <th></th>\n",
       "      <th></th>\n",
       "    </tr>\n",
       "  </thead>\n",
       "  <tbody>\n",
       "    <tr>\n",
       "      <th rowspan=\"4\" valign=\"top\">1</th>\n",
       "      <th rowspan=\"2\" valign=\"top\">female</th>\n",
       "      <th>adult</th>\n",
       "      <td>479.744186</td>\n",
       "      <td>0.988372</td>\n",
       "      <td>34.675325</td>\n",
       "      <td>0.558140</td>\n",
       "      <td>0.453488</td>\n",
       "      <td>107.051793</td>\n",
       "    </tr>\n",
       "    <tr>\n",
       "      <th>child</th>\n",
       "      <td>326.000000</td>\n",
       "      <td>0.666667</td>\n",
       "      <td>10.466667</td>\n",
       "      <td>0.666667</td>\n",
       "      <td>0.666667</td>\n",
       "      <td>101.561800</td>\n",
       "    </tr>\n",
       "    <tr>\n",
       "      <th rowspan=\"2\" valign=\"top\">male</th>\n",
       "      <th>adult</th>\n",
       "      <td>451.271186</td>\n",
       "      <td>0.355932</td>\n",
       "      <td>42.382653</td>\n",
       "      <td>0.305085</td>\n",
       "      <td>0.237288</td>\n",
       "      <td>66.249859</td>\n",
       "    </tr>\n",
       "    <tr>\n",
       "      <th>child</th>\n",
       "      <td>587.250000</td>\n",
       "      <td>0.750000</td>\n",
       "      <td>6.905000</td>\n",
       "      <td>0.500000</td>\n",
       "      <td>1.500000</td>\n",
       "      <td>96.026025</td>\n",
       "    </tr>\n",
       "    <tr>\n",
       "      <th rowspan=\"4\" valign=\"top\">2</th>\n",
       "      <th rowspan=\"2\" valign=\"top\">female</th>\n",
       "      <th>adult</th>\n",
       "      <td>450.303030</td>\n",
       "      <td>0.909091</td>\n",
       "      <td>32.179688</td>\n",
       "      <td>0.454545</td>\n",
       "      <td>0.500000</td>\n",
       "      <td>20.868624</td>\n",
       "    </tr>\n",
       "    <tr>\n",
       "      <th>child</th>\n",
       "      <td>395.600000</td>\n",
       "      <td>1.000000</td>\n",
       "      <td>6.600000</td>\n",
       "      <td>0.700000</td>\n",
       "      <td>1.300000</td>\n",
       "      <td>29.240000</td>\n",
       "    </tr>\n",
       "    <tr>\n",
       "      <th rowspan=\"2\" valign=\"top\">male</th>\n",
       "      <th>adult</th>\n",
       "      <td>444.958763</td>\n",
       "      <td>0.082474</td>\n",
       "      <td>33.696629</td>\n",
       "      <td>0.298969</td>\n",
       "      <td>0.134021</td>\n",
       "      <td>19.157818</td>\n",
       "    </tr>\n",
       "    <tr>\n",
       "      <th>child</th>\n",
       "      <td>474.454545</td>\n",
       "      <td>0.818182</td>\n",
       "      <td>3.975455</td>\n",
       "      <td>0.727273</td>\n",
       "      <td>1.000000</td>\n",
       "      <td>24.891291</td>\n",
       "    </tr>\n",
       "    <tr>\n",
       "      <th rowspan=\"4\" valign=\"top\">3</th>\n",
       "      <th rowspan=\"2\" valign=\"top\">female</th>\n",
       "      <th>adult</th>\n",
       "      <td>397.474576</td>\n",
       "      <td>0.500000</td>\n",
       "      <td>27.171053</td>\n",
       "      <td>0.720339</td>\n",
       "      <td>0.694915</td>\n",
       "      <td>15.208124</td>\n",
       "    </tr>\n",
       "    <tr>\n",
       "      <th>child</th>\n",
       "      <td>409.961538</td>\n",
       "      <td>0.500000</td>\n",
       "      <td>5.903846</td>\n",
       "      <td>1.692308</td>\n",
       "      <td>1.269231</td>\n",
       "      <td>20.251923</td>\n",
       "    </tr>\n",
       "    <tr>\n",
       "      <th rowspan=\"2\" valign=\"top\">male</th>\n",
       "      <th>adult</th>\n",
       "      <td>457.528481</td>\n",
       "      <td>0.120253</td>\n",
       "      <td>28.816143</td>\n",
       "      <td>0.300633</td>\n",
       "      <td>0.129747</td>\n",
       "      <td>11.349272</td>\n",
       "    </tr>\n",
       "    <tr>\n",
       "      <th>child</th>\n",
       "      <td>435.000000</td>\n",
       "      <td>0.290323</td>\n",
       "      <td>6.910323</td>\n",
       "      <td>2.516129</td>\n",
       "      <td>1.193548</td>\n",
       "      <td>26.039245</td>\n",
       "    </tr>\n",
       "  </tbody>\n",
       "</table>\n",
       "</div>"
      ],
      "text/plain": [
       "                             PassengerId  Survived        Age     SibSp  \\\n",
       "Pclass Sex    child_v_adult                                               \n",
       "1      female adult           479.744186  0.988372  34.675325  0.558140   \n",
       "              child           326.000000  0.666667  10.466667  0.666667   \n",
       "       male   adult           451.271186  0.355932  42.382653  0.305085   \n",
       "              child           587.250000  0.750000   6.905000  0.500000   \n",
       "2      female adult           450.303030  0.909091  32.179688  0.454545   \n",
       "              child           395.600000  1.000000   6.600000  0.700000   \n",
       "       male   adult           444.958763  0.082474  33.696629  0.298969   \n",
       "              child           474.454545  0.818182   3.975455  0.727273   \n",
       "3      female adult           397.474576  0.500000  27.171053  0.720339   \n",
       "              child           409.961538  0.500000   5.903846  1.692308   \n",
       "       male   adult           457.528481  0.120253  28.816143  0.300633   \n",
       "              child           435.000000  0.290323   6.910323  2.516129   \n",
       "\n",
       "                                Parch        Fare  \n",
       "Pclass Sex    child_v_adult                        \n",
       "1      female adult          0.453488  107.051793  \n",
       "              child          0.666667  101.561800  \n",
       "       male   adult          0.237288   66.249859  \n",
       "              child          1.500000   96.026025  \n",
       "2      female adult          0.500000   20.868624  \n",
       "              child          1.300000   29.240000  \n",
       "       male   adult          0.134021   19.157818  \n",
       "              child          1.000000   24.891291  \n",
       "3      female adult          0.694915   15.208124  \n",
       "              child          1.269231   20.251923  \n",
       "       male   adult          0.129747   11.349272  \n",
       "              child          1.193548   26.039245  "
      ]
     },
     "execution_count": 29,
     "metadata": {},
     "output_type": "execute_result"
    }
   ],
   "source": [
    "train_df.groupby(['Pclass', \"Sex\", 'child_v_adult']).mean()"
   ]
  },
  {
   "cell_type": "code",
   "execution_count": 30,
   "metadata": {},
   "outputs": [
    {
     "data": {
      "text/html": [
       "<div>\n",
       "<style scoped>\n",
       "    .dataframe tbody tr th:only-of-type {\n",
       "        vertical-align: middle;\n",
       "    }\n",
       "\n",
       "    .dataframe tbody tr th {\n",
       "        vertical-align: top;\n",
       "    }\n",
       "\n",
       "    .dataframe thead th {\n",
       "        text-align: right;\n",
       "    }\n",
       "</style>\n",
       "<table border=\"1\" class=\"dataframe\">\n",
       "  <thead>\n",
       "    <tr style=\"text-align: right;\">\n",
       "      <th></th>\n",
       "      <th></th>\n",
       "      <th></th>\n",
       "      <th>PassengerId</th>\n",
       "      <th>Survived</th>\n",
       "      <th>Name</th>\n",
       "      <th>Age</th>\n",
       "      <th>SibSp</th>\n",
       "      <th>Parch</th>\n",
       "      <th>Ticket</th>\n",
       "      <th>Fare</th>\n",
       "      <th>Embarked</th>\n",
       "    </tr>\n",
       "    <tr>\n",
       "      <th>Pclass</th>\n",
       "      <th>Sex</th>\n",
       "      <th>child_v_adult</th>\n",
       "      <th></th>\n",
       "      <th></th>\n",
       "      <th></th>\n",
       "      <th></th>\n",
       "      <th></th>\n",
       "      <th></th>\n",
       "      <th></th>\n",
       "      <th></th>\n",
       "      <th></th>\n",
       "    </tr>\n",
       "  </thead>\n",
       "  <tbody>\n",
       "    <tr>\n",
       "      <th rowspan=\"4\" valign=\"top\">1</th>\n",
       "      <th rowspan=\"2\" valign=\"top\">female</th>\n",
       "      <th>adult</th>\n",
       "      <td>86</td>\n",
       "      <td>86</td>\n",
       "      <td>86</td>\n",
       "      <td>77</td>\n",
       "      <td>86</td>\n",
       "      <td>86</td>\n",
       "      <td>86</td>\n",
       "      <td>86</td>\n",
       "      <td>86</td>\n",
       "    </tr>\n",
       "    <tr>\n",
       "      <th>child</th>\n",
       "      <td>6</td>\n",
       "      <td>6</td>\n",
       "      <td>6</td>\n",
       "      <td>6</td>\n",
       "      <td>6</td>\n",
       "      <td>6</td>\n",
       "      <td>6</td>\n",
       "      <td>6</td>\n",
       "      <td>6</td>\n",
       "    </tr>\n",
       "    <tr>\n",
       "      <th rowspan=\"2\" valign=\"top\">male</th>\n",
       "      <th>adult</th>\n",
       "      <td>118</td>\n",
       "      <td>118</td>\n",
       "      <td>118</td>\n",
       "      <td>98</td>\n",
       "      <td>118</td>\n",
       "      <td>118</td>\n",
       "      <td>118</td>\n",
       "      <td>118</td>\n",
       "      <td>118</td>\n",
       "    </tr>\n",
       "    <tr>\n",
       "      <th>child</th>\n",
       "      <td>4</td>\n",
       "      <td>4</td>\n",
       "      <td>4</td>\n",
       "      <td>4</td>\n",
       "      <td>4</td>\n",
       "      <td>4</td>\n",
       "      <td>4</td>\n",
       "      <td>4</td>\n",
       "      <td>4</td>\n",
       "    </tr>\n",
       "    <tr>\n",
       "      <th rowspan=\"4\" valign=\"top\">2</th>\n",
       "      <th rowspan=\"2\" valign=\"top\">female</th>\n",
       "      <th>adult</th>\n",
       "      <td>66</td>\n",
       "      <td>66</td>\n",
       "      <td>66</td>\n",
       "      <td>64</td>\n",
       "      <td>66</td>\n",
       "      <td>66</td>\n",
       "      <td>66</td>\n",
       "      <td>66</td>\n",
       "      <td>66</td>\n",
       "    </tr>\n",
       "    <tr>\n",
       "      <th>child</th>\n",
       "      <td>10</td>\n",
       "      <td>10</td>\n",
       "      <td>10</td>\n",
       "      <td>10</td>\n",
       "      <td>10</td>\n",
       "      <td>10</td>\n",
       "      <td>10</td>\n",
       "      <td>10</td>\n",
       "      <td>10</td>\n",
       "    </tr>\n",
       "    <tr>\n",
       "      <th rowspan=\"2\" valign=\"top\">male</th>\n",
       "      <th>adult</th>\n",
       "      <td>97</td>\n",
       "      <td>97</td>\n",
       "      <td>97</td>\n",
       "      <td>89</td>\n",
       "      <td>97</td>\n",
       "      <td>97</td>\n",
       "      <td>97</td>\n",
       "      <td>97</td>\n",
       "      <td>97</td>\n",
       "    </tr>\n",
       "    <tr>\n",
       "      <th>child</th>\n",
       "      <td>11</td>\n",
       "      <td>11</td>\n",
       "      <td>11</td>\n",
       "      <td>11</td>\n",
       "      <td>11</td>\n",
       "      <td>11</td>\n",
       "      <td>11</td>\n",
       "      <td>11</td>\n",
       "      <td>11</td>\n",
       "    </tr>\n",
       "    <tr>\n",
       "      <th rowspan=\"4\" valign=\"top\">3</th>\n",
       "      <th rowspan=\"2\" valign=\"top\">female</th>\n",
       "      <th>adult</th>\n",
       "      <td>118</td>\n",
       "      <td>118</td>\n",
       "      <td>118</td>\n",
       "      <td>76</td>\n",
       "      <td>118</td>\n",
       "      <td>118</td>\n",
       "      <td>118</td>\n",
       "      <td>118</td>\n",
       "      <td>118</td>\n",
       "    </tr>\n",
       "    <tr>\n",
       "      <th>child</th>\n",
       "      <td>26</td>\n",
       "      <td>26</td>\n",
       "      <td>26</td>\n",
       "      <td>26</td>\n",
       "      <td>26</td>\n",
       "      <td>26</td>\n",
       "      <td>26</td>\n",
       "      <td>26</td>\n",
       "      <td>26</td>\n",
       "    </tr>\n",
       "    <tr>\n",
       "      <th rowspan=\"2\" valign=\"top\">male</th>\n",
       "      <th>adult</th>\n",
       "      <td>316</td>\n",
       "      <td>316</td>\n",
       "      <td>316</td>\n",
       "      <td>223</td>\n",
       "      <td>316</td>\n",
       "      <td>316</td>\n",
       "      <td>316</td>\n",
       "      <td>316</td>\n",
       "      <td>316</td>\n",
       "    </tr>\n",
       "    <tr>\n",
       "      <th>child</th>\n",
       "      <td>31</td>\n",
       "      <td>31</td>\n",
       "      <td>31</td>\n",
       "      <td>31</td>\n",
       "      <td>31</td>\n",
       "      <td>31</td>\n",
       "      <td>31</td>\n",
       "      <td>31</td>\n",
       "      <td>31</td>\n",
       "    </tr>\n",
       "  </tbody>\n",
       "</table>\n",
       "</div>"
      ],
      "text/plain": [
       "                             PassengerId  Survived  Name  Age  SibSp  Parch  \\\n",
       "Pclass Sex    child_v_adult                                                   \n",
       "1      female adult                   86        86    86   77     86     86   \n",
       "              child                    6         6     6    6      6      6   \n",
       "       male   adult                  118       118   118   98    118    118   \n",
       "              child                    4         4     4    4      4      4   \n",
       "2      female adult                   66        66    66   64     66     66   \n",
       "              child                   10        10    10   10     10     10   \n",
       "       male   adult                   97        97    97   89     97     97   \n",
       "              child                   11        11    11   11     11     11   \n",
       "3      female adult                  118       118   118   76    118    118   \n",
       "              child                   26        26    26   26     26     26   \n",
       "       male   adult                  316       316   316  223    316    316   \n",
       "              child                   31        31    31   31     31     31   \n",
       "\n",
       "                             Ticket  Fare  Embarked  \n",
       "Pclass Sex    child_v_adult                          \n",
       "1      female adult              86    86        86  \n",
       "              child               6     6         6  \n",
       "       male   adult             118   118       118  \n",
       "              child               4     4         4  \n",
       "2      female adult              66    66        66  \n",
       "              child              10    10        10  \n",
       "       male   adult              97    97        97  \n",
       "              child              11    11        11  \n",
       "3      female adult             118   118       118  \n",
       "              child              26    26        26  \n",
       "       male   adult             316   316       316  \n",
       "              child              31    31        31  "
      ]
     },
     "execution_count": 30,
     "metadata": {},
     "output_type": "execute_result"
    }
   ],
   "source": [
    "train_df.groupby(['Pclass', \"Sex\", 'child_v_adult']).count()"
   ]
  },
  {
   "cell_type": "markdown",
   "metadata": {},
   "source": [
    "### Summary of deeper analysis\n",
    "+ It seems there is clearly some sort of interaction effect of wealth on survival rates.\n",
    "    + Age and gender survival rates are greatly influenced by wealth"
   ]
  },
  {
   "cell_type": "markdown",
   "metadata": {},
   "source": [
    "## Results of EDA\n",
    "+ Passengers with multiple siblings on board seem more likely to die\n",
    "+ Men are much more likely to die than women\n",
    "+ Children are less likely to die than adults\n",
    "+ Women were younger and purchased more expensive tickets\n",
    "+ Passengers with more expensive tickets were less likely to die\n",
    "+ Women with expensive tickets had over a 95% survival rate"
   ]
  },
  {
   "cell_type": "markdown",
   "metadata": {},
   "source": [
    "### What does this mean for our model\n",
    "+ Age, gender,fare, and Pclass seem to be the best determinants of survival\n",
    "+ Because of the interaction effects, I believe a random forest model will do a great job of classifying \n",
    "+ The main characteristic that will distinguish my models will be using imputation by -1 for age versus using the special imputation method I discussed in sections 1.4.2-1.4.4\n"
   ]
  },
  {
   "cell_type": "markdown",
   "metadata": {},
   "source": [
    "# Modeling \n",
    "\n",
    "\n",
    "## Build custom transformers"
   ]
  },
  {
   "cell_type": "code",
   "execution_count": 31,
   "metadata": {},
   "outputs": [],
   "source": [
    "class BinarizeColumn(TransformerMixin, BaseException):\n",
    "\n",
    "    def __init__(self, field):\n",
    "        self.field = field\n",
    "\n",
    "    def transform(self, data):\n",
    "        \"\"\"(Convert Male/Female to 1/0)\"\"\"\n",
    "\n",
    "        data[self.field] = (data[self.field] == 'male').astype(int)\n",
    "        return data\n",
    "\n",
    "    def fit(self, *_):\n",
    "        return self\n",
    "\n",
    "\n",
    "class ImputeColumn(TransformerMixin, BaseException):\n",
    "    def __init__(self, field):\n",
    "        self.field = field\n",
    "\n",
    "    def transform(self, data):\n",
    "        \"\"\"(Impute -1 for missing values)\"\"\"\n",
    "        data[self.field] = data[self.field].fillna(-1)\n",
    "        return data\n",
    "\n",
    "    def fit(self, *_):\n",
    "        return self\n",
    "\n",
    "\n",
    "class ImputeColumn_df_specific(TransformerMixin, BaseException):\n",
    "    def __init__(self, field):\n",
    "        self.field = field\n",
    "\n",
    "    def transform(self, data):\n",
    "        \"\"\"Two-step imputation with imputation printout summary\n",
    "        Imputes special Median Age value for subset (3+ siblings)\n",
    "        Imputes -1 for leftover NA\n",
    "        \"\"\"\n",
    "        print(\"NA before imputation:\", data[self.field].isna().sum())\n",
    "        missing_age_df = data[data[self.field].isna()]\n",
    "        missing_and_na_age_df = missing_age_df[missing_age_df['SibSp'] >= 3]\n",
    "        data.loc[missing_and_na_age_df.index, \"Age\"] = 11.7\n",
    "        data[self.field] = data[self.field].fillna(-1)\n",
    "        print(\"special case imputation:\", len(\n",
    "            data.loc[missing_and_na_age_df.index, \"Age\"]))\n",
    "        print(\"-1 after imputation:\", sum(data[self.field] == -1))\n",
    "        return data\n",
    "\n",
    "    def fit(self, *_):\n",
    "        return self"
   ]
  },
  {
   "cell_type": "markdown",
   "metadata": {},
   "source": [
    "## Build custom function \n",
    "\n"
   ]
  },
  {
   "cell_type": "code",
   "execution_count": 32,
   "metadata": {},
   "outputs": [],
   "source": [
    "def Create_train_splits(df):\n",
    "    \"\"\"\n",
    "    Creates Train_test Splits for model \n",
    "    \"\"\"\n",
    "    \n",
    "    features = ['Pclass', 'Sex', 'Age', 'SibSp', 'Fare']\n",
    "    label = 'Survived'\n",
    "    X = df[features]\n",
    "    y = df[label].ravel()\n",
    "    X_train, X_test, y_train, y_test = train_test_split(X, y, test_size=0.33)\n",
    "    return(X_train, X_test, y_train, y_test)\n",
    "\n",
    "\n",
    "def Create_X_y_cv_models(df):\n",
    "    \"\"\"\n",
    "    Creates X & y for cross validated models\n",
    "    \"\"\"\n",
    "    features = ['Pclass', 'Sex', 'Age', 'SibSp', 'Fare']\n",
    "    label = 'Survived'\n",
    "    X = df[features]\n",
    "    y = df[label].ravel()\n",
    "    return(X, y)"
   ]
  },
  {
   "cell_type": "code",
   "execution_count": 33,
   "metadata": {},
   "outputs": [],
   "source": [
    "# reload dataset reset index\n",
    "df = train.set_index('PassengerId')"
   ]
  },
  {
   "cell_type": "markdown",
   "metadata": {},
   "source": [
    "## Initiate class objects\n"
   ]
  },
  {
   "cell_type": "code",
   "execution_count": 34,
   "metadata": {},
   "outputs": [],
   "source": [
    "dummy = DummyClassifier(strategy='stratified',\n",
    "                        random_state=None, constant=None)\n",
    "binarize = BinarizeColumn('Sex')\n",
    "rf = RandomForestClassifier()\n",
    "age_col_as_neg1 = ImputeColumn(\"Age\")\n",
    "age_col_special_impute = ImputeColumn_df_specific(\"Age\")\n",
    "logreg = LogisticRegression()"
   ]
  },
  {
   "cell_type": "markdown",
   "metadata": {},
   "source": [
    "## Single run models \n",
    "+ I could not think of a way to average results for an ROC curve out of the pipeline in a cross validated model. Because of this my_pipe_1 and my_pipe 2 display an ROC curve, but lack cross validation"
   ]
  },
  {
   "cell_type": "markdown",
   "metadata": {},
   "source": [
    "### Create my_pipe\n",
    "+ Age column imputed with -1 values\n",
    "+ Confusion matrix built\n",
    "+ ROC curve built\n",
    "+ Classification report and AUC score printed"
   ]
  },
  {
   "cell_type": "code",
   "execution_count": 35,
   "metadata": {},
   "outputs": [
    {
     "name": "stdout",
     "output_type": "stream",
     "text": [
      "[[158  18]\n",
      " [ 43  76]]\n"
     ]
    },
    {
     "data": {
      "image/png": "[encoded data removed]",
      "text/plain": [
       "<Figure size 432x288 with 1 Axes>"
      ]
     },
     "metadata": {},
     "output_type": "display_data"
    },
    {
     "name": "stdout",
     "output_type": "stream",
     "text": [
      "             precision    recall  f1-score   support\n",
      "\n",
      "          0       0.79      0.90      0.84       176\n",
      "          1       0.81      0.64      0.71       119\n",
      "\n",
      "avg / total       0.80      0.79      0.79       295\n",
      "\n",
      "roc_auc_score: 0.819566462948816\n"
     ]
    }
   ],
   "source": [
    "np.random.seed(7)\n",
    "X_train, X_test, y_train, y_test = Create_train_splits(df)\n",
    "my_pipe = Pipeline([\n",
    "    ('binarize', BinarizeColumn(\"Sex\")),\n",
    "    ('impute_column', age_col_as_neg1),\n",
    "    ('rf', rf)\n",
    "]).fit(X_train, y_train)\n",
    "\n",
    "# Get predictions and print roc curve, confusion matrix, classificatiion report\n",
    "predicted = my_pipe.predict_proba(X_test)\n",
    "scores = pd.DataFrame(index=y_test, data=predicted)\n",
    "predicted_survival = np.where(scores.iloc[:, 1] > 0.5, 1, 0)\n",
    "print(confusion_matrix(y_test, predicted_survival))\n",
    "y_true = y_test\n",
    "y_probas = predicted\n",
    "\n",
    "# Make Roc plot\n",
    "fpr, tpr, _ = roc_curve(y_test, y_probas[:, 1])\n",
    "plt.clf()\n",
    "plt.plot(fpr, tpr)\n",
    "plt.xlabel('FPR')\n",
    "plt.ylabel('TPR')\n",
    "plt.title('ROC curve')\n",
    "plt.show()\n",
    "\n",
    "# Scoring\n",
    "report = classification_report(y_test, predicted_survival)\n",
    "print(report)\n",
    "pipe_1_result = roc_auc_score(y_test, y_probas[:, 1])\n",
    "print(\"roc_auc_score:\", roc_auc_score(y_test, y_probas[:, 1]))"
   ]
  },
  {
   "cell_type": "markdown",
   "metadata": {},
   "source": [
    "### Create my_pipe_2\n",
    "+ Age column is imputed with ImputeColumn_df_specific custom transformer\n",
    "+ Confusion matrix built\n",
    "+ ROC curve built\n",
    "+ Classification report and AUC score printed"
   ]
  },
  {
   "cell_type": "code",
   "execution_count": 36,
   "metadata": {},
   "outputs": [
    {
     "name": "stdout",
     "output_type": "stream",
     "text": [
      "NA before imputation: 114\n",
      "special case imputation: 5\n",
      "-1 after imputation: 109\n",
      "NA before imputation: 60\n",
      "special case imputation: 6\n",
      "-1 after imputation: 54\n",
      "[[158  18]\n",
      " [ 44  75]]\n"
     ]
    },
    {
     "data": {
      "image/png": "[encoded data removed]",
      "text/plain": [
       "<Figure size 432x288 with 1 Axes>"
      ]
     },
     "metadata": {},
     "output_type": "display_data"
    },
    {
     "name": "stdout",
     "output_type": "stream",
     "text": [
      "             precision    recall  f1-score   support\n",
      "\n",
      "          0       0.78      0.90      0.84       176\n",
      "          1       0.81      0.63      0.71       119\n",
      "\n",
      "avg / total       0.79      0.79      0.78       295\n",
      "\n",
      "roc_auc_score: 0.8175133689839572\n",
      "(295,)\n"
     ]
    }
   ],
   "source": [
    "np.random.seed(7)\n",
    "X_train, X_test, y_train, y_test = Create_train_splits(df)\n",
    "my_pipe_2 = Pipeline([\n",
    "    ('binarize', BinarizeColumn(\"Sex\")),\n",
    "    ('impute_column', age_col_special_impute),\n",
    "    ('rf', rf)\n",
    "]).fit(X_train, y_train)\n",
    "\n",
    "# Get predictions and print roc curve, confusion matrix, classificatiion report\n",
    "predicted = my_pipe_2.predict_proba(X_test)\n",
    "scores = pd.DataFrame(index=y_test, data=predicted)\n",
    "predicted_survival = np.where(scores.iloc[:, 1] > 0.5, 1, 0)\n",
    "print(confusion_matrix(y_test, predicted_survival))\n",
    "accuracy_score(y_test, predicted_survival)\n",
    "y_true = y_test\n",
    "y_probas = predicted\n",
    "\n",
    "# Make Roc plot\n",
    "fpr, tpr, _ = roc_curve(y_test, y_probas[:, 1])\n",
    "plt.clf()\n",
    "plt.plot(fpr, tpr)\n",
    "plt.xlabel('FPR')\n",
    "plt.ylabel('TPR')\n",
    "plt.title('ROC curve')\n",
    "plt.show()\n",
    "\n",
    "# Scoring\n",
    "report = classification_report(y_test, predicted_survival)\n",
    "print(report)\n",
    "pipe_2_result = roc_auc_score(y_test, y_probas[:, 1])\n",
    "print(\"roc_auc_score:\", roc_auc_score(y_test, y_probas[:, 1]))\n",
    "print(predicted_survival.shape)"
   ]
  },
  {
   "cell_type": "markdown",
   "metadata": {},
   "source": [
    "## Cross validated models"
   ]
  },
  {
   "cell_type": "markdown",
   "metadata": {},
   "source": [
    "### My_pipe_3\n",
    "+ cross validated model\n",
    "+ age_imputation is -1 for NA's\n",
    "+ classification report and AUC"
   ]
  },
  {
   "cell_type": "code",
   "execution_count": 37,
   "metadata": {},
   "outputs": [
    {
     "name": "stdout",
     "output_type": "stream",
     "text": [
      "[[488  61]\n",
      " [101 241]]\n",
      "             precision    recall  f1-score   support\n",
      "\n",
      "          0       0.83      0.89      0.86       549\n",
      "          1       0.80      0.70      0.75       342\n",
      "\n",
      "avg / total       0.82      0.82      0.82       891\n",
      "\n",
      "0.85433488951136\n"
     ]
    }
   ],
   "source": [
    "# Set seed and use function to setup model features\n",
    "np.random.seed(7)\n",
    "X, y = Create_X_y_cv_models(df)\n",
    "\n",
    "# build pipe\n",
    "my_pipe_3 = Pipeline([\n",
    "    ('binarize', BinarizeColumn(\"Sex\")),\n",
    "    ('impute_column', age_col_as_neg1),\n",
    "    ('rf', rf)\n",
    "])\n",
    "\n",
    "# print results\n",
    "y_pred = cross_val_predict(my_pipe_3, X, y, cv=10)\n",
    "conf_mat = confusion_matrix(y, y_pred)\n",
    "print(conf_mat)\n",
    "print(classification_report(y, y_pred))\n",
    "pipe_3_result = cross_val_score(my_pipe_3, X, y, cv=10, scoring=\"roc_auc\")\n",
    "print(pipe_3_result.mean())"
   ]
  },
  {
   "cell_type": "markdown",
   "metadata": {},
   "source": [
    "### My_pipe_4\n",
    "+ Cross validated model\n",
    "+ Age_imputation uses ImputeColumn_df_specific transformer\n",
    "+ Classification report and mean AUC score "
   ]
  },
  {
   "cell_type": "code",
   "execution_count": 38,
   "metadata": {},
   "outputs": [
    {
     "name": "stdout",
     "output_type": "stream",
     "text": [
      "NA before imputation: 154\n",
      "special case imputation: 11\n",
      "-1 after imputation: 143\n",
      "NA before imputation: 20\n",
      "special case imputation: 0\n",
      "-1 after imputation: 20\n",
      "NA before imputation: 159\n",
      "special case imputation: 10\n",
      "-1 after imputation: 149\n",
      "NA before imputation: 15\n",
      "special case imputation: 1\n",
      "-1 after imputation: 14\n",
      "NA before imputation: 159\n",
      "special case imputation: 7\n",
      "-1 after imputation: 152\n",
      "NA before imputation: 15\n",
      "special case imputation: 4\n",
      "-1 after imputation: 11\n",
      "NA before imputation: 155\n",
      "special case imputation: 10\n",
      "-1 after imputation: 145\n",
      "NA before imputation: 19\n",
      "special case imputation: 1\n",
      "-1 after imputation: 18\n",
      "NA before imputation: 156\n",
      "special case imputation: 10\n",
      "-1 after imputation: 146\n",
      "NA before imputation: 18\n",
      "special case imputation: 1\n",
      "-1 after imputation: 17\n",
      "NA before imputation: 152\n",
      "special case imputation: 10\n",
      "-1 after imputation: 142\n",
      "NA before imputation: 22\n",
      "special case imputation: 1\n",
      "-1 after imputation: 21\n",
      "NA before imputation: 153\n",
      "special case imputation: 11\n",
      "-1 after imputation: 142\n",
      "NA before imputation: 21\n",
      "special case imputation: 0\n",
      "-1 after imputation: 21\n",
      "NA before imputation: 159\n",
      "special case imputation: 11\n",
      "-1 after imputation: 148\n",
      "NA before imputation: 15\n",
      "special case imputation: 0\n",
      "-1 after imputation: 15\n",
      "NA before imputation: 159\n",
      "special case imputation: 10\n",
      "-1 after imputation: 149\n",
      "NA before imputation: 15\n",
      "special case imputation: 1\n",
      "-1 after imputation: 14\n",
      "NA before imputation: 160\n",
      "special case imputation: 9\n",
      "-1 after imputation: 151\n",
      "NA before imputation: 14\n",
      "special case imputation: 2\n",
      "-1 after imputation: 12\n",
      "             precision    recall  f1-score   support\n",
      "\n",
      "          0       0.82      0.88      0.85       549\n",
      "          1       0.79      0.69      0.74       342\n",
      "\n",
      "avg / total       0.81      0.81      0.81       891\n",
      "\n",
      "NA before imputation: 154\n",
      "special case imputation: 11\n",
      "-1 after imputation: 143\n",
      "NA before imputation: 20\n",
      "special case imputation: 0\n",
      "-1 after imputation: 20\n",
      "NA before imputation: 159\n",
      "special case imputation: 10\n",
      "-1 after imputation: 149\n",
      "NA before imputation: 15\n",
      "special case imputation: 1\n",
      "-1 after imputation: 14\n",
      "NA before imputation: 159\n",
      "special case imputation: 7\n",
      "-1 after imputation: 152\n",
      "NA before imputation: 15\n",
      "special case imputation: 4\n",
      "-1 after imputation: 11\n",
      "NA before imputation: 155\n",
      "special case imputation: 10\n",
      "-1 after imputation: 145\n",
      "NA before imputation: 19\n",
      "special case imputation: 1\n",
      "-1 after imputation: 18\n",
      "NA before imputation: 156\n",
      "special case imputation: 10\n",
      "-1 after imputation: 146\n",
      "NA before imputation: 18\n",
      "special case imputation: 1\n",
      "-1 after imputation: 17\n",
      "NA before imputation: 152\n",
      "special case imputation: 10\n",
      "-1 after imputation: 142\n",
      "NA before imputation: 22\n",
      "special case imputation: 1\n",
      "-1 after imputation: 21\n",
      "NA before imputation: 153\n",
      "special case imputation: 11\n",
      "-1 after imputation: 142\n",
      "NA before imputation: 21\n",
      "special case imputation: 0\n",
      "-1 after imputation: 21\n",
      "NA before imputation: 159\n",
      "special case imputation: 11\n",
      "-1 after imputation: 148\n",
      "NA before imputation: 15\n",
      "special case imputation: 0\n",
      "-1 after imputation: 15\n",
      "NA before imputation: 159\n",
      "special case imputation: 10\n",
      "-1 after imputation: 149\n",
      "NA before imputation: 15\n",
      "special case imputation: 1\n",
      "-1 after imputation: 14\n",
      "NA before imputation: 160\n",
      "special case imputation: 9\n",
      "-1 after imputation: 151\n",
      "NA before imputation: 14\n",
      "special case imputation: 2\n",
      "-1 after imputation: 12\n",
      "0.8501806298276886\n"
     ]
    }
   ],
   "source": [
    "# Set seed and use function to setup model features\n",
    "np.random.seed(7)\n",
    "X, y = Create_X_y_cv_models(df)\n",
    "\n",
    "# Build pipe\n",
    "my_pipe_4 = Pipeline([\n",
    "    ('binarize', BinarizeColumn(\"Sex\")),\n",
    "    ('impute_column', age_col_special_impute),\n",
    "    ('rf', rf)\n",
    "])\n",
    "\n",
    "# Print results\n",
    "y_pred = cross_val_predict(my_pipe_4, X, y, cv=10)\n",
    "my_model=classification_report(y, y_pred)\n",
    "print(my_model)\n",
    "pipe_4_result = cross_val_score(\n",
    "    estimator=my_pipe_4, X=X, y=y, scoring=\"roc_auc\", cv=10)\n",
    "print(pipe_4_result.mean())"
   ]
  },
  {
   "cell_type": "markdown",
   "metadata": {},
   "source": [
    "### Build custom classification report\n",
    "+ Below code taken from [link](https://stackoverflow.com/questions/39662398/scikit-learn-output-metrics-classification-report-into-csv-tab-delimited-format/42467096)\n",
    "+ Prints classification report to csv file which i will load in final scoring model"
   ]
  },
  {
   "cell_type": "code",
   "execution_count": 39,
   "metadata": {},
   "outputs": [
    {
     "name": "stdout",
     "output_type": "stream",
     "text": [
      "Classification report is saved as classification_report2.csv and can be safely loaded in socre_model.py\n"
     ]
    }
   ],
   "source": [
    "def classification_report_csv(report):\n",
    "    report_data = []\n",
    "    lines = report.split('\\n')\n",
    "    for line in lines[2:-3]:\n",
    "        row = {}\n",
    "        row_data = line.split('      ')\n",
    "        row['class'] = row_data[0]\n",
    "        row['precision'] = float(row_data[1])\n",
    "        row['recall'] = float(row_data[2])\n",
    "        row['f1_score'] = float(row_data[3])\n",
    "        row['support'] = float(row_data[4])\n",
    "        report_data.append(row)\n",
    "    dataframe = pd.DataFrame.from_dict(report_data)\n",
    "    dataframe.to_csv('classification_report2.csv', index=False)\n",
    "\n",
    "\n",
    "report = classification_report(y, y_pred, target_names=['class 0', 'class 1'])\n",
    "classification_report_csv(report)\n",
    "file=Path(\"classification_report2.csv\")\n",
    "if file.is_file():\n",
    "    print(\"Classification report is saved as classification_report2.csv and can be safely loaded in socre_model.py\")\n",
    "else: print(\"File did not save, and will not load in score_model.py\")"
   ]
  },
  {
   "cell_type": "markdown",
   "metadata": {},
   "source": [
    "## My_pipe_5\n",
    "+ Logistic regression model\n",
    "+ Uses special imputation\n",
    "+ Classification report and AUC score printed"
   ]
  },
  {
   "cell_type": "code",
   "execution_count": 40,
   "metadata": {},
   "outputs": [
    {
     "name": "stdout",
     "output_type": "stream",
     "text": [
      "NA before imputation: 154\n",
      "special case imputation: 11\n",
      "-1 after imputation: 143\n",
      "NA before imputation: 20\n",
      "special case imputation: 0\n",
      "-1 after imputation: 20\n",
      "NA before imputation: 159\n",
      "special case imputation: 10\n",
      "-1 after imputation: 149\n",
      "NA before imputation: 15\n",
      "special case imputation: 1\n",
      "-1 after imputation: 14\n",
      "NA before imputation: 159\n",
      "special case imputation: 7\n",
      "-1 after imputation: 152\n",
      "NA before imputation: 15\n",
      "special case imputation: 4\n",
      "-1 after imputation: 11\n",
      "NA before imputation: 155\n",
      "special case imputation: 10\n",
      "-1 after imputation: 145\n",
      "NA before imputation: 19\n",
      "special case imputation: 1\n",
      "-1 after imputation: 18\n",
      "NA before imputation: 156\n",
      "special case imputation: 10\n",
      "-1 after imputation: 146\n",
      "NA before imputation: 18\n",
      "special case imputation: 1\n",
      "-1 after imputation: 17\n",
      "NA before imputation: 152\n",
      "special case imputation: 10\n",
      "-1 after imputation: 142\n",
      "NA before imputation: 22\n",
      "special case imputation: 1\n",
      "-1 after imputation: 21\n",
      "NA before imputation: 153\n",
      "special case imputation: 11\n",
      "-1 after imputation: 142\n",
      "NA before imputation: 21\n",
      "special case imputation: 0\n",
      "-1 after imputation: 21\n",
      "NA before imputation: 159\n",
      "special case imputation: 11\n",
      "-1 after imputation: 148\n",
      "NA before imputation: 15\n",
      "special case imputation: 0\n",
      "-1 after imputation: 15\n",
      "NA before imputation: 159\n",
      "special case imputation: 10\n",
      "-1 after imputation: 149\n",
      "NA before imputation: 15\n",
      "special case imputation: 1\n",
      "-1 after imputation: 14\n",
      "NA before imputation: 160\n",
      "special case imputation: 9\n",
      "-1 after imputation: 151\n",
      "NA before imputation: 14\n",
      "special case imputation: 2\n",
      "-1 after imputation: 12\n",
      "             precision    recall  f1-score   support\n",
      "\n",
      "          0       0.81      0.85      0.83       549\n",
      "          1       0.74      0.69      0.71       342\n",
      "\n",
      "avg / total       0.79      0.79      0.79       891\n",
      "\n",
      "NA before imputation: 154\n",
      "special case imputation: 11\n",
      "-1 after imputation: 143\n",
      "NA before imputation: 20\n",
      "special case imputation: 0\n",
      "-1 after imputation: 20\n",
      "NA before imputation: 159\n",
      "special case imputation: 10\n",
      "-1 after imputation: 149\n",
      "NA before imputation: 15\n",
      "special case imputation: 1\n",
      "-1 after imputation: 14\n",
      "NA before imputation: 159\n",
      "special case imputation: 7\n",
      "-1 after imputation: 152\n",
      "NA before imputation: 15\n",
      "special case imputation: 4\n",
      "-1 after imputation: 11\n",
      "NA before imputation: 155\n",
      "special case imputation: 10\n",
      "-1 after imputation: 145\n",
      "NA before imputation: 19\n",
      "special case imputation: 1\n",
      "-1 after imputation: 18\n",
      "NA before imputation: 156\n",
      "special case imputation: 10\n",
      "-1 after imputation: 146\n",
      "NA before imputation: 18\n",
      "special case imputation: 1\n",
      "-1 after imputation: 17\n",
      "NA before imputation: 152\n",
      "special case imputation: 10\n",
      "-1 after imputation: 142\n",
      "NA before imputation: 22\n",
      "special case imputation: 1\n",
      "-1 after imputation: 21\n",
      "NA before imputation: 153\n",
      "special case imputation: 11\n",
      "-1 after imputation: 142\n",
      "NA before imputation: 21\n",
      "special case imputation: 0\n",
      "-1 after imputation: 21\n",
      "NA before imputation: 159\n",
      "special case imputation: 11\n",
      "-1 after imputation: 148\n",
      "NA before imputation: 15\n",
      "special case imputation: 0\n",
      "-1 after imputation: 15\n",
      "NA before imputation: 159\n",
      "special case imputation: 10\n",
      "-1 after imputation: 149\n",
      "NA before imputation: 15\n",
      "special case imputation: 1\n",
      "-1 after imputation: 14\n",
      "NA before imputation: 160\n",
      "special case imputation: 9\n",
      "-1 after imputation: 151\n",
      "NA before imputation: 14\n",
      "special case imputation: 2\n",
      "-1 after imputation: 12\n",
      "0.8449937752878929\n"
     ]
    }
   ],
   "source": [
    "# Set seed and use function to setup model features\n",
    "np.random.seed(7)\n",
    "X, y = Create_X_y_cv_models(df)\n",
    "\n",
    "# Build pipe\n",
    "my_pipe_5 = Pipeline([\n",
    "    ('binarize', BinarizeColumn(\"Sex\")),\n",
    "    ('impute_column', age_col_special_impute),\n",
    "    ('logreg', logreg)\n",
    "])\n",
    "\n",
    "# Print results\n",
    "y_pred = cross_val_predict(my_pipe_5, X, y, cv=10)\n",
    "print(classification_report(y, y_pred))\n",
    "pipe_5_result = cross_val_score(\n",
    "    estimator=my_pipe_5, X=X, y=y, scoring=\"roc_auc\", cv=10)\n",
    "print(pipe_5_result.mean())"
   ]
  },
  {
   "cell_type": "markdown",
   "metadata": {},
   "source": [
    "## compare model performance\n",
    "+ Build accuracy scores for models\n",
    "+ Grab AUC scores for models "
   ]
  },
  {
   "cell_type": "code",
   "execution_count": 41,
   "metadata": {},
   "outputs": [
    {
     "name": "stdout",
     "output_type": "stream",
     "text": [
      "NA before imputation: 154\n",
      "special case imputation: 11\n",
      "-1 after imputation: 143\n",
      "NA before imputation: 20\n",
      "special case imputation: 0\n",
      "-1 after imputation: 20\n",
      "NA before imputation: 159\n",
      "special case imputation: 10\n",
      "-1 after imputation: 149\n",
      "NA before imputation: 15\n",
      "special case imputation: 1\n",
      "-1 after imputation: 14\n",
      "NA before imputation: 159\n",
      "special case imputation: 7\n",
      "-1 after imputation: 152\n",
      "NA before imputation: 15\n",
      "special case imputation: 4\n",
      "-1 after imputation: 11\n",
      "NA before imputation: 155\n",
      "special case imputation: 10\n",
      "-1 after imputation: 145\n",
      "NA before imputation: 19\n",
      "special case imputation: 1\n",
      "-1 after imputation: 18\n",
      "NA before imputation: 156\n",
      "special case imputation: 10\n",
      "-1 after imputation: 146\n",
      "NA before imputation: 18\n",
      "special case imputation: 1\n",
      "-1 after imputation: 17\n",
      "NA before imputation: 152\n",
      "special case imputation: 10\n",
      "-1 after imputation: 142\n",
      "NA before imputation: 22\n",
      "special case imputation: 1\n",
      "-1 after imputation: 21\n",
      "NA before imputation: 153\n",
      "special case imputation: 11\n",
      "-1 after imputation: 142\n",
      "NA before imputation: 21\n",
      "special case imputation: 0\n",
      "-1 after imputation: 21\n",
      "NA before imputation: 159\n",
      "special case imputation: 11\n",
      "-1 after imputation: 148\n",
      "NA before imputation: 15\n",
      "special case imputation: 0\n",
      "-1 after imputation: 15\n",
      "NA before imputation: 159\n",
      "special case imputation: 10\n",
      "-1 after imputation: 149\n",
      "NA before imputation: 15\n",
      "special case imputation: 1\n",
      "-1 after imputation: 14\n",
      "NA before imputation: 160\n",
      "special case imputation: 9\n",
      "-1 after imputation: 151\n",
      "NA before imputation: 14\n",
      "special case imputation: 2\n",
      "-1 after imputation: 12\n",
      "NA before imputation: 154\n",
      "special case imputation: 11\n",
      "-1 after imputation: 143\n",
      "NA before imputation: 20\n",
      "special case imputation: 0\n",
      "-1 after imputation: 20\n",
      "NA before imputation: 159\n",
      "special case imputation: 10\n",
      "-1 after imputation: 149\n",
      "NA before imputation: 15\n",
      "special case imputation: 1\n",
      "-1 after imputation: 14\n",
      "NA before imputation: 159\n",
      "special case imputation: 7\n",
      "-1 after imputation: 152\n",
      "NA before imputation: 15\n",
      "special case imputation: 4\n",
      "-1 after imputation: 11\n",
      "NA before imputation: 155\n",
      "special case imputation: 10\n",
      "-1 after imputation: 145\n",
      "NA before imputation: 19\n",
      "special case imputation: 1\n",
      "-1 after imputation: 18\n",
      "NA before imputation: 156\n",
      "special case imputation: 10\n",
      "-1 after imputation: 146\n",
      "NA before imputation: 18\n",
      "special case imputation: 1\n",
      "-1 after imputation: 17\n",
      "NA before imputation: 152\n",
      "special case imputation: 10\n",
      "-1 after imputation: 142\n",
      "NA before imputation: 22\n",
      "special case imputation: 1\n",
      "-1 after imputation: 21\n",
      "NA before imputation: 153\n",
      "special case imputation: 11\n",
      "-1 after imputation: 142\n",
      "NA before imputation: 21\n",
      "special case imputation: 0\n",
      "-1 after imputation: 21\n",
      "NA before imputation: 159\n",
      "special case imputation: 11\n",
      "-1 after imputation: 148\n",
      "NA before imputation: 15\n",
      "special case imputation: 0\n",
      "-1 after imputation: 15\n",
      "NA before imputation: 159\n",
      "special case imputation: 10\n",
      "-1 after imputation: 149\n",
      "NA before imputation: 15\n",
      "special case imputation: 1\n",
      "-1 after imputation: 14\n",
      "NA before imputation: 160\n",
      "special case imputation: 9\n",
      "-1 after imputation: 151\n",
      "NA before imputation: 14\n",
      "special case imputation: 2\n",
      "-1 after imputation: 12\n",
      "NA before imputation: 154\n",
      "special case imputation: 11\n",
      "-1 after imputation: 143\n",
      "NA before imputation: 20\n",
      "special case imputation: 0\n",
      "-1 after imputation: 20\n",
      "NA before imputation: 159\n",
      "special case imputation: 10\n",
      "-1 after imputation: 149\n",
      "NA before imputation: 15\n",
      "special case imputation: 1\n",
      "-1 after imputation: 14\n",
      "NA before imputation: 159\n",
      "special case imputation: 7\n",
      "-1 after imputation: 152\n",
      "NA before imputation: 15\n",
      "special case imputation: 4\n",
      "-1 after imputation: 11\n",
      "NA before imputation: 155\n",
      "special case imputation: 10\n",
      "-1 after imputation: 145\n",
      "NA before imputation: 19\n",
      "special case imputation: 1\n",
      "-1 after imputation: 18\n",
      "NA before imputation: 156\n",
      "special case imputation: 10\n",
      "-1 after imputation: 146\n",
      "NA before imputation: 18\n",
      "special case imputation: 1\n",
      "-1 after imputation: 17\n",
      "NA before imputation: 152\n",
      "special case imputation: 10\n",
      "-1 after imputation: 142\n",
      "NA before imputation: 22\n",
      "special case imputation: 1\n",
      "-1 after imputation: 21\n",
      "NA before imputation: 153\n",
      "special case imputation: 11\n",
      "-1 after imputation: 142\n",
      "NA before imputation: 21\n",
      "special case imputation: 0\n",
      "-1 after imputation: 21\n",
      "NA before imputation: 159\n",
      "special case imputation: 11\n",
      "-1 after imputation: 148\n",
      "NA before imputation: 15\n",
      "special case imputation: 0\n",
      "-1 after imputation: 15\n",
      "NA before imputation: 159\n",
      "special case imputation: 10\n",
      "-1 after imputation: 149\n",
      "NA before imputation: 15\n",
      "special case imputation: 1\n",
      "-1 after imputation: 14\n",
      "NA before imputation: 160\n",
      "special case imputation: 9\n",
      "-1 after imputation: 151\n",
      "NA before imputation: 14\n",
      "special case imputation: 2\n",
      "-1 after imputation: 12\n"
     ]
    }
   ],
   "source": [
    "normal_imput_acc = cross_val_score(\n",
    "    estimator=my_pipe_4, X=X, y=y, scoring=\"accuracy\", cv=10)\n",
    "\n",
    "special_impute_acc = cross_val_score(\n",
    "    estimator=my_pipe_4, X=X, y=y, scoring=\"accuracy\", cv=10)\n",
    "log_acc = cross_val_score(\n",
    "    estimator=my_pipe_5, X=X, y=y, scoring=\"accuracy\", cv=10)"
   ]
  },
  {
   "cell_type": "code",
   "execution_count": 42,
   "metadata": {},
   "outputs": [
    {
     "name": "stdout",
     "output_type": "stream",
     "text": [
      "         My_pipe_1 My_pipe_2  My_pipe_3  Mypipe_4   MyPipe5\n",
      "AUC       0.819566  0.817513   0.854335  0.850181  0.844994\n",
      "ACCURACY        NA        NA   0.809347  0.811607  0.787835\n"
     ]
    }
   ],
   "source": [
    "score_dict = {\"My_pipe_1\": [pipe_1_result, \"NA\"], \"My_pipe_2\": [pipe_2_result, 'NA'],\n",
    "              \"My_pipe_3\": [pipe_3_result.mean(), normal_imput_acc.mean()],\n",
    "              \"Mypipe_4\": [pipe_4_result.mean(), special_impute_acc.mean()],\n",
    "              \"MyPipe5\": [pipe_5_result.mean(), log_acc.mean()]}\n",
    "model_metrics_df = pd.DataFrame(score_dict, index={0: 'ss', 1: 'one'})\n",
    "model_metrics_df.rename(index={0: 'AUC', 1: 'ACCURACY'}, inplace=True)\n",
    "\n",
    "print(model_metrics_df)"
   ]
  },
  {
   "cell_type": "markdown",
   "metadata": {},
   "source": [
    "+ The model with the best performance seems to be my_pipe_4 and my_pipe_3\n",
    "+ I feel my_pipe_4 is slightly more robust than the other models because of the special imputation it uses to correctly identify children, therefore that will be the model selected  \n",
    "\n",
    "## Model limitations\n",
    "+ I couldn't produce an ROC curve for the cross validated models\n",
    "+ I couldn't visualize examples of the trees produced by the random forest\n",
    "+ The model lacks hyper-tuning\n",
    "+ The model wasn't optimized by AUC curve\n"
   ]
  }
 ],
 "metadata": {
  "kernelspec": {
   "display_name": "Python 3",
   "language": "python",
   "name": "python3"
  },
  "language_info": {
   "codemirror_mode": {
    "name": "ipython",
    "version": 3
   },
   "file_extension": ".py",
   "mimetype": "text/x-python",
   "name": "python",
   "nbconvert_exporter": "python",
   "pygments_lexer": "ipython3",
   "version": "3.6.5"
  },
  "toc": {
   "base_numbering": 1,
   "nav_menu": {},
   "number_sections": true,
   "sideBar": true,
   "skip_h1_title": false,
   "title_cell": "Table of Contents",
   "title_sidebar": "Contents",
   "toc_cell": false,
   "toc_position": {
    "height": "calc(100% - 180px)",
    "left": "10px",
    "top": "150px",
    "width": "440px"
   },
   "toc_section_display": true,
   "toc_window_display": true
  }
 },
 "nbformat": 4,
 "nbformat_minor": 2
}
